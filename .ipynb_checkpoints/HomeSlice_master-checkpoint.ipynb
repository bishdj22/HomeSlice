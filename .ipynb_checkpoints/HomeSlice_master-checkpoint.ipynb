{
 "cells": [
  {
   "cell_type": "code",
   "execution_count": 17,
   "metadata": {},
   "outputs": [],
   "source": [
    "#from config import (census_key, gkey)\n",
    "import numpy as np\n",
    "import pandas as pd\n",
    "import requests\n",
    "import zillow\n",
    "import pprint"
   ]
  },
  {
   "cell_type": "code",
   "execution_count": 5,
   "metadata": {},
   "outputs": [],
   "source": [
    "#----API Reference GitHub --> https://github.com/seme0021/python-zillow\n",
    "\n",
    "api = zillow.ValuationApi()\n",
    "key = \"X1-ZWz17fdl35adqj_3bebs\""
   ]
  },
  {
   "cell_type": "code",
   "execution_count": 6,
   "metadata": {},
   "outputs": [],
   "source": [
    "#address = input('123 Streetname Rd, City, State ')\n",
    "#postal_code = input('Zip Code')"
   ]
  },
  {
   "cell_type": "code",
   "execution_count": 7,
   "metadata": {},
   "outputs": [],
   "source": [
    "#TEST ADDRESS: 14 Hayes Ave, Elizabeth, NJ 07202\n",
    "\n",
    "address = \"501 Shumaker Dr, Monroeville, PA\"\n",
    "postal_code = \"15146\"\n",
    "\n",
    "\n",
    "request_data = api.GetSearchResults(key, address, postal_code)"
   ]
  },
  {
   "cell_type": "code",
   "execution_count": 21,
   "metadata": {},
   "outputs": [
    {
     "name": "stdout",
     "output_type": "stream",
     "text": [
      "{'extended_data': {'bathrooms': None,\n",
      "                   'bedrooms': None,\n",
      "                   'complete': False,\n",
      "                   'finished_sqft': None,\n",
      "                   'fips_county': None,\n",
      "                   'last_sold_date': None,\n",
      "                   'last_sold_price': None,\n",
      "                   'lot_size_sqft': None,\n",
      "                   'tax_assessment': None,\n",
      "                   'tax_assessment_year': None,\n",
      "                   'usecode': None,\n",
      "                   'year_built': None},\n",
      " 'full_address': {'city': 'Monroeville',\n",
      "                  'latitude': '40.456694',\n",
      "                  'longitude': '-79.763917',\n",
      "                  'state': 'PA',\n",
      "                  'street': '501 Shumaker Dr',\n",
      "                  'zipcode': '15146'},\n",
      " 'links': {'comparables': 'http://www.zillow.com/homes/comps/11626766_zpid/',\n",
      "           'graphs_and_data': 'http://www.zillow.com/homedetails/501-Shumaker-Dr-Monroeville-PA-15146/11626766_zpid/#charts-and-data',\n",
      "           'home_details': 'https://www.zillow.com/homedetails/501-Shumaker-Dr-Monroeville-PA-15146/11626766_zpid/',\n",
      "           'map_this_home': 'http://www.zillow.com/homes/11626766_zpid/'},\n",
      " 'local_realestate': {'fsbo_link': 'http://www.zillow.com/monroeville-pa/fsbo/',\n",
      "                      'overview_link': 'http://www.zillow.com/local-info/PA-Monroeville/r_46582/',\n",
      "                      'region_id': '46582',\n",
      "                      'region_name': 'Monroeville',\n",
      "                      'region_type': 'city',\n",
      "                      'sale_link': 'http://www.zillow.com/monroeville-pa/',\n",
      "                      'zillow_home_value_index': None},\n",
      " 'similarity_score': None,\n",
      " 'zestimate': {'amount': 188993,\n",
      "               'amount_change_30days': 2067,\n",
      "               'amount_currency': 'USD',\n",
      "               'amount_last_updated': '02/08/2020',\n",
      "               'valuation_range_high': 213562,\n",
      "               'valuation_range_low': 175763},\n",
      " 'zpid': '11626766'}\n"
     ]
    }
   ],
   "source": [
    "result = request_data.get_dict()\n",
    "pp.pprint(result)"
   ]
  },
  {
   "cell_type": "code",
   "execution_count": 27,
   "metadata": {},
   "outputs": [
    {
     "data": {
      "text/plain": [
       "{'amount': 188993,\n",
       " 'amount_currency': 'USD',\n",
       " 'amount_last_updated': '02/08/2020',\n",
       " 'amount_change_30days': 2067,\n",
       " 'valuation_range_low': 175763,\n",
       " 'valuation_range_high': 213562}"
      ]
     },
     "execution_count": 27,
     "metadata": {},
     "output_type": "execute_result"
    }
   ],
   "source": [
    "zestimate = result['zestimate']\n",
    "zestimate"
   ]
  },
  {
   "cell_type": "code",
   "execution_count": 29,
   "metadata": {},
   "outputs": [
    {
     "data": {
      "text/plain": [
       "{'street': '501 Shumaker Dr',\n",
       " 'zipcode': '15146',\n",
       " 'city': 'Monroeville',\n",
       " 'state': 'PA',\n",
       " 'latitude': '40.456694',\n",
       " 'longitude': '-79.763917'}"
      ]
     },
     "execution_count": 29,
     "metadata": {},
     "output_type": "execute_result"
    }
   ],
   "source": [
    "address = result['full_address']\n",
    "address"
   ]
  },
  {
   "cell_type": "code",
   "execution_count": 37,
   "metadata": {},
   "outputs": [
    {
     "data": {
      "text/html": [
       "<div>\n",
       "<style scoped>\n",
       "    .dataframe tbody tr th:only-of-type {\n",
       "        vertical-align: middle;\n",
       "    }\n",
       "\n",
       "    .dataframe tbody tr th {\n",
       "        vertical-align: top;\n",
       "    }\n",
       "\n",
       "    .dataframe thead th {\n",
       "        text-align: right;\n",
       "    }\n",
       "</style>\n",
       "<table border=\"1\" class=\"dataframe\">\n",
       "  <thead>\n",
       "    <tr style=\"text-align: right;\">\n",
       "      <th></th>\n",
       "      <th>street</th>\n",
       "      <th>zipcode</th>\n",
       "      <th>city</th>\n",
       "      <th>state</th>\n",
       "      <th>latitude</th>\n",
       "      <th>longitude</th>\n",
       "    </tr>\n",
       "  </thead>\n",
       "  <tbody>\n",
       "    <tr>\n",
       "      <th>0</th>\n",
       "      <td>501 Shumaker Dr</td>\n",
       "      <td>15146</td>\n",
       "      <td>Monroeville</td>\n",
       "      <td>PA</td>\n",
       "      <td>40.456694</td>\n",
       "      <td>-79.763917</td>\n",
       "    </tr>\n",
       "  </tbody>\n",
       "</table>\n",
       "</div>"
      ],
      "text/plain": [
       "            street zipcode         city state   latitude   longitude\n",
       "0  501 Shumaker Dr   15146  Monroeville    PA  40.456694  -79.763917"
      ]
     },
     "execution_count": 37,
     "metadata": {},
     "output_type": "execute_result"
    }
   ],
   "source": [
    "address_df = pd.DataFrame([address][zestimate],columns=address.keys())\n",
    "address_df"
   ]
  },
  {
   "cell_type": "code",
   "execution_count": null,
   "metadata": {},
   "outputs": [],
   "source": [
    "zestimatedf = pd.DataFrame([zestimate], columns=[address.keys,zestimate.keys])\n"
   ]
  },
  {
   "cell_type": "code",
   "execution_count": null,
   "metadata": {},
   "outputs": [],
   "source": []
  },
  {
   "cell_type": "code",
   "execution_count": null,
   "metadata": {},
   "outputs": [],
   "source": []
  }
 ],
 "metadata": {
  "kernelspec": {
   "display_name": "Python 3",
   "language": "python",
   "name": "python3"
  },
  "language_info": {
   "codemirror_mode": {
    "name": "ipython",
    "version": 3
   },
   "file_extension": ".py",
   "mimetype": "text/x-python",
   "name": "python",
   "nbconvert_exporter": "python",
   "pygments_lexer": "ipython3",
   "version": "3.6.9"
  }
 },
 "nbformat": 4,
 "nbformat_minor": 2
}
