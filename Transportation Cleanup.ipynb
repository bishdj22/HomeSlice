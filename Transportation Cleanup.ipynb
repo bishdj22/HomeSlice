{
 "cells": [
  {
   "cell_type": "code",
   "execution_count": 1,
   "metadata": {},
   "outputs": [],
   "source": [
    "import pandas as pd"
   ]
  },
  {
   "cell_type": "code",
   "execution_count": 2,
   "metadata": {},
   "outputs": [],
   "source": [
    "filenames = ['alabama', 'alaska', 'arizona','arkansas', 'california', 'colorado','connecticut','dc','delaware','florida','georgia',\n",
    "             'hawaii', 'idaho', 'illinois','indiana', 'iowa','kansas','kentucky','louisiana','maine','maryland','massachusetts',\n",
    "            'michigan','minnesota','mississippi','missouri','montana','nebraska','nevada','newhampshire','newmexico','newjersey',\n",
    "            'northcarolina','northdakota','newyork','ohio','oklahoma','oregon','pennsylvania','rhodeisland','southcarolina','southdakota',\n",
    "            'texas','tennesee','UTAH','vermont','virginia','washington','wisconsin','westvirginia','wyoming']"
   ]
  },
  {
   "cell_type": "code",
   "execution_count": 3,
   "metadata": {},
   "outputs": [],
   "source": [
    "transportscores = pd.DataFrame(columns=['place','name','blkgrps','population','households','alltransit_performance_score','state'])"
   ]
  },
  {
   "cell_type": "code",
   "execution_count": 4,
   "metadata": {},
   "outputs": [
    {
     "data": {
      "text/html": [
       "<div>\n",
       "<style scoped>\n",
       "    .dataframe tbody tr th:only-of-type {\n",
       "        vertical-align: middle;\n",
       "    }\n",
       "\n",
       "    .dataframe tbody tr th {\n",
       "        vertical-align: top;\n",
       "    }\n",
       "\n",
       "    .dataframe thead th {\n",
       "        text-align: right;\n",
       "    }\n",
       "</style>\n",
       "<table border=\"1\" class=\"dataframe\">\n",
       "  <thead>\n",
       "    <tr style=\"text-align: right;\">\n",
       "      <th></th>\n",
       "      <th>place</th>\n",
       "      <th>name</th>\n",
       "      <th>blkgrps</th>\n",
       "      <th>population</th>\n",
       "      <th>households</th>\n",
       "      <th>alltransit_performance_score</th>\n",
       "      <th>state</th>\n",
       "    </tr>\n",
       "  </thead>\n",
       "  <tbody>\n",
       "  </tbody>\n",
       "</table>\n",
       "</div>"
      ],
      "text/plain": [
       "Empty DataFrame\n",
       "Columns: [place, name, blkgrps, population, households, alltransit_performance_score, state]\n",
       "Index: []"
      ]
     },
     "execution_count": 4,
     "metadata": {},
     "output_type": "execute_result"
    }
   ],
   "source": [
    "transportscores"
   ]
  },
  {
   "cell_type": "code",
   "execution_count": 5,
   "metadata": {},
   "outputs": [],
   "source": [
    "for state in filenames:\n",
    "    df = pd.read_csv('Data/State Transportation Scores/alltransit_data_places_{}.csv'.format(state))\n",
    "    df['state'] = state\n",
    "#     print(len(df))\n",
    "    transportscores = transportscores.append(df)"
   ]
  },
  {
   "cell_type": "code",
   "execution_count": 6,
   "metadata": {},
   "outputs": [
    {
     "data": {
      "text/plain": [
       "29324"
      ]
     },
     "execution_count": 6,
     "metadata": {},
     "output_type": "execute_result"
    }
   ],
   "source": [
    "len(transportscores)"
   ]
  },
  {
   "cell_type": "code",
   "execution_count": 7,
   "metadata": {},
   "outputs": [
    {
     "data": {
      "text/html": [
       "<div>\n",
       "<style scoped>\n",
       "    .dataframe tbody tr th:only-of-type {\n",
       "        vertical-align: middle;\n",
       "    }\n",
       "\n",
       "    .dataframe tbody tr th {\n",
       "        vertical-align: top;\n",
       "    }\n",
       "\n",
       "    .dataframe thead th {\n",
       "        text-align: right;\n",
       "    }\n",
       "</style>\n",
       "<table border=\"1\" class=\"dataframe\">\n",
       "  <thead>\n",
       "    <tr style=\"text-align: right;\">\n",
       "      <th></th>\n",
       "      <th>place</th>\n",
       "      <th>name</th>\n",
       "      <th>blkgrps</th>\n",
       "      <th>population</th>\n",
       "      <th>households</th>\n",
       "      <th>alltransit_performance_score</th>\n",
       "      <th>state</th>\n",
       "    </tr>\n",
       "  </thead>\n",
       "  <tbody>\n",
       "    <tr>\n",
       "      <th>1193</th>\n",
       "      <td>\"0667000\"</td>\n",
       "      <td>\"San Francisco\"</td>\n",
       "      <td>580.0</td>\n",
       "      <td>864263.0</td>\n",
       "      <td>358772.0</td>\n",
       "      <td>9.6</td>\n",
       "      <td>california</td>\n",
       "    </tr>\n",
       "    <tr>\n",
       "      <th>713</th>\n",
       "      <td>\"3651000\"</td>\n",
       "      <td>\"New York\"</td>\n",
       "      <td>6289.0</td>\n",
       "      <td>8560072.0</td>\n",
       "      <td>3142405.0</td>\n",
       "      <td>9.6</td>\n",
       "      <td>newyork</td>\n",
       "    </tr>\n",
       "    <tr>\n",
       "      <th>967</th>\n",
       "      <td>\"4249504\"</td>\n",
       "      <td>\"Millbourne\"</td>\n",
       "      <td>1.0</td>\n",
       "      <td>1253.0</td>\n",
       "      <td>345.0</td>\n",
       "      <td>9.8</td>\n",
       "      <td>pennsylvania</td>\n",
       "    </tr>\n",
       "  </tbody>\n",
       "</table>\n",
       "</div>"
      ],
      "text/plain": [
       "          place             name  blkgrps  population  households  \\\n",
       "1193  \"0667000\"  \"San Francisco\"    580.0    864263.0    358772.0   \n",
       "713   \"3651000\"       \"New York\"   6289.0   8560072.0   3142405.0   \n",
       "967   \"4249504\"     \"Millbourne\"      1.0      1253.0       345.0   \n",
       "\n",
       "      alltransit_performance_score         state  \n",
       "1193                           9.6    california  \n",
       "713                            9.6       newyork  \n",
       "967                            9.8  pennsylvania  "
      ]
     },
     "execution_count": 7,
     "metadata": {},
     "output_type": "execute_result"
    }
   ],
   "source": [
    "transportscores[transportscores['alltransit_performance_score'] > 9.5]"
   ]
  },
  {
   "cell_type": "code",
   "execution_count": 8,
   "metadata": {},
   "outputs": [],
   "source": [
    "transportscores.to_csv('Data/transportationscoresus.csv',index=False)"
   ]
  },
  {
   "cell_type": "code",
   "execution_count": null,
   "metadata": {},
   "outputs": [],
   "source": []
  }
 ],
 "metadata": {
  "kernelspec": {
   "display_name": "Python 3",
   "language": "python",
   "name": "python3"
  },
  "language_info": {
   "codemirror_mode": {
    "name": "ipython",
    "version": 3
   },
   "file_extension": ".py",
   "mimetype": "text/x-python",
   "name": "python",
   "nbconvert_exporter": "python",
   "pygments_lexer": "ipython3",
   "version": "3.7.1"
  }
 },
 "nbformat": 4,
 "nbformat_minor": 4
}
