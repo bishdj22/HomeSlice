{
 "cells": [
  {
   "cell_type": "code",
   "execution_count": 2,
   "metadata": {},
   "outputs": [],
   "source": [
    "import pandas as pd"
   ]
  },
  {
   "cell_type": "code",
   "execution_count": 4,
   "metadata": {},
   "outputs": [],
   "source": [
    "sales = pd.read_csv(\"Data/clean_Sales_df\")\n",
    "v_crime = pd.read_csv(\"Data/clean_violent_crime\")\n",
    "p_crime = pd.read_csv(\"Data/clean_property_crime\")\n",
    "transportation = pd.read_csv(\"Data/clean_transport_df\")\n",
    "school = pd.read_csv(\"Data/clean_school_df\")"
   ]
  },
  {
   "cell_type": "code",
   "execution_count": 22,
   "metadata": {},
   "outputs": [
    {
     "data": {
      "text/html": [
       "<div>\n",
       "<style scoped>\n",
       "    .dataframe tbody tr th:only-of-type {\n",
       "        vertical-align: middle;\n",
       "    }\n",
       "\n",
       "    .dataframe tbody tr th {\n",
       "        vertical-align: top;\n",
       "    }\n",
       "\n",
       "    .dataframe thead th {\n",
       "        text-align: right;\n",
       "    }\n",
       "</style>\n",
       "<table border=\"1\" class=\"dataframe\">\n",
       "  <thead>\n",
       "    <tr style=\"text-align: right;\">\n",
       "      <th></th>\n",
       "      <th>zipcode</th>\n",
       "      <th>sale_percent_change</th>\n",
       "      <th>latest_median_sale</th>\n",
       "      <th>value_change</th>\n",
       "      <th>viol_rate</th>\n",
       "      <th>prop_rate</th>\n",
       "      <th>education</th>\n",
       "      <th>transportation</th>\n",
       "    </tr>\n",
       "  </thead>\n",
       "  <tbody>\n",
       "    <tr>\n",
       "      <td>0</td>\n",
       "      <td>1001</td>\n",
       "      <td>0.0</td>\n",
       "      <td>0.0</td>\n",
       "      <td>0.0</td>\n",
       "      <td>0.0</td>\n",
       "      <td>0.0</td>\n",
       "      <td>1.0</td>\n",
       "      <td>1.0</td>\n",
       "    </tr>\n",
       "    <tr>\n",
       "      <td>1</td>\n",
       "      <td>1002</td>\n",
       "      <td>1.0</td>\n",
       "      <td>0.0</td>\n",
       "      <td>1.0</td>\n",
       "      <td>0.0</td>\n",
       "      <td>0.0</td>\n",
       "      <td>1.0</td>\n",
       "      <td>1.0</td>\n",
       "    </tr>\n",
       "    <tr>\n",
       "      <td>2</td>\n",
       "      <td>1003</td>\n",
       "      <td>0.0</td>\n",
       "      <td>1.0</td>\n",
       "      <td>0.0</td>\n",
       "      <td>0.0</td>\n",
       "      <td>0.0</td>\n",
       "      <td>1.0</td>\n",
       "      <td>1.0</td>\n",
       "    </tr>\n",
       "    <tr>\n",
       "      <td>3</td>\n",
       "      <td>1005</td>\n",
       "      <td>0.0</td>\n",
       "      <td>0.0</td>\n",
       "      <td>0.0</td>\n",
       "      <td>0.0</td>\n",
       "      <td>0.0</td>\n",
       "      <td>1.0</td>\n",
       "      <td>1.0</td>\n",
       "    </tr>\n",
       "    <tr>\n",
       "      <td>4</td>\n",
       "      <td>1007</td>\n",
       "      <td>0.0</td>\n",
       "      <td>0.0</td>\n",
       "      <td>0.0</td>\n",
       "      <td>0.0</td>\n",
       "      <td>0.0</td>\n",
       "      <td>1.0</td>\n",
       "      <td>1.0</td>\n",
       "    </tr>\n",
       "  </tbody>\n",
       "</table>\n",
       "</div>"
      ],
      "text/plain": [
       "   zipcode  sale_percent_change  latest_median_sale  value_change  viol_rate  \\\n",
       "0     1001                  0.0                 0.0           0.0        0.0   \n",
       "1     1002                  1.0                 0.0           1.0        0.0   \n",
       "2     1003                  0.0                 1.0           0.0        0.0   \n",
       "3     1005                  0.0                 0.0           0.0        0.0   \n",
       "4     1007                  0.0                 0.0           0.0        0.0   \n",
       "\n",
       "   prop_rate  education  transportation  \n",
       "0        0.0        1.0             1.0  \n",
       "1        0.0        1.0             1.0  \n",
       "2        0.0        1.0             1.0  \n",
       "3        0.0        1.0             1.0  \n",
       "4        0.0        1.0             1.0  "
      ]
     },
     "execution_count": 22,
     "metadata": {},
     "output_type": "execute_result"
    }
   ],
   "source": [
    "model = pd.read_csv(\"Data/DecisionTree_RandomForest_model\", index_col=0)\n",
    "model.head()"
   ]
  },
  {
   "cell_type": "code",
   "execution_count": 23,
   "metadata": {},
   "outputs": [
    {
     "data": {
      "text/html": [
       "<div>\n",
       "<style scoped>\n",
       "    .dataframe tbody tr th:only-of-type {\n",
       "        vertical-align: middle;\n",
       "    }\n",
       "\n",
       "    .dataframe tbody tr th {\n",
       "        vertical-align: top;\n",
       "    }\n",
       "\n",
       "    .dataframe thead th {\n",
       "        text-align: right;\n",
       "    }\n",
       "</style>\n",
       "<table border=\"1\" class=\"dataframe\">\n",
       "  <thead>\n",
       "    <tr style=\"text-align: right;\">\n",
       "      <th></th>\n",
       "      <th>zipcode</th>\n",
       "      <th>sale_percent_change</th>\n",
       "      <th>latest_median_sale</th>\n",
       "      <th>value_change</th>\n",
       "      <th>viol_rate</th>\n",
       "      <th>prop_rate</th>\n",
       "      <th>education</th>\n",
       "      <th>transportation</th>\n",
       "    </tr>\n",
       "  </thead>\n",
       "  <tbody>\n",
       "    <tr>\n",
       "      <td>0</td>\n",
       "      <td>01001</td>\n",
       "      <td>0</td>\n",
       "      <td>0</td>\n",
       "      <td>0</td>\n",
       "      <td>0</td>\n",
       "      <td>0</td>\n",
       "      <td>1</td>\n",
       "      <td>1</td>\n",
       "    </tr>\n",
       "    <tr>\n",
       "      <td>1</td>\n",
       "      <td>01002</td>\n",
       "      <td>1</td>\n",
       "      <td>0</td>\n",
       "      <td>1</td>\n",
       "      <td>0</td>\n",
       "      <td>0</td>\n",
       "      <td>1</td>\n",
       "      <td>1</td>\n",
       "    </tr>\n",
       "    <tr>\n",
       "      <td>2</td>\n",
       "      <td>01003</td>\n",
       "      <td>0</td>\n",
       "      <td>1</td>\n",
       "      <td>0</td>\n",
       "      <td>0</td>\n",
       "      <td>0</td>\n",
       "      <td>1</td>\n",
       "      <td>1</td>\n",
       "    </tr>\n",
       "    <tr>\n",
       "      <td>3</td>\n",
       "      <td>01005</td>\n",
       "      <td>0</td>\n",
       "      <td>0</td>\n",
       "      <td>0</td>\n",
       "      <td>0</td>\n",
       "      <td>0</td>\n",
       "      <td>1</td>\n",
       "      <td>1</td>\n",
       "    </tr>\n",
       "    <tr>\n",
       "      <td>4</td>\n",
       "      <td>01007</td>\n",
       "      <td>0</td>\n",
       "      <td>0</td>\n",
       "      <td>0</td>\n",
       "      <td>0</td>\n",
       "      <td>0</td>\n",
       "      <td>1</td>\n",
       "      <td>1</td>\n",
       "    </tr>\n",
       "  </tbody>\n",
       "</table>\n",
       "</div>"
      ],
      "text/plain": [
       "  zipcode  sale_percent_change  latest_median_sale  value_change  viol_rate  \\\n",
       "0   01001                    0                   0             0          0   \n",
       "1   01002                    1                   0             1          0   \n",
       "2   01003                    0                   1             0          0   \n",
       "3   01005                    0                   0             0          0   \n",
       "4   01007                    0                   0             0          0   \n",
       "\n",
       "   prop_rate  education  transportation  \n",
       "0          0          1               1  \n",
       "1          0          1               1  \n",
       "2          0          1               1  \n",
       "3          0          1               1  \n",
       "4          0          1               1  "
      ]
     },
     "execution_count": 23,
     "metadata": {},
     "output_type": "execute_result"
    }
   ],
   "source": [
    "model = model.astype(int)\n",
    "\n",
    "model.zipcode = model.zipcode.astype('str')\n",
    "\n",
    "model['zipcode'] = model['zipcode'].apply(lambda x: x.zfill(5))\n",
    "\n",
    "model.head()"
   ]
  },
  {
   "cell_type": "code",
   "execution_count": 24,
   "metadata": {},
   "outputs": [
    {
     "data": {
      "text/plain": [
       "array([['01001', 0, 0, ..., 0, 1, 1],\n",
       "       ['01002', 1, 0, ..., 0, 1, 1],\n",
       "       ['01003', 0, 1, ..., 0, 1, 1],\n",
       "       ...,\n",
       "       ['99926', 1, 0, ..., 1, 0, 0],\n",
       "       ['99927', 1, 0, ..., 1, 0, 0],\n",
       "       ['99929', 1, 0, ..., 1, 0, 0]], dtype=object)"
      ]
     },
     "execution_count": 24,
     "metadata": {},
     "output_type": "execute_result"
    }
   ],
   "source": [
    "dataset = model.values\n",
    "dataset"
   ]
  },
  {
   "cell_type": "code",
   "execution_count": 27,
   "metadata": {},
   "outputs": [
    {
     "data": {
      "text/plain": [
       "array([[0, 0, 0, 0],\n",
       "       [0, 1, 0, 0],\n",
       "       [1, 0, 0, 0],\n",
       "       ...,\n",
       "       [0, 1, 0, 1],\n",
       "       [0, 1, 0, 1],\n",
       "       [0, 1, 0, 1]], dtype=object)"
      ]
     },
     "execution_count": 27,
     "metadata": {},
     "output_type": "execute_result"
    }
   ],
   "source": [
    "X = dataset[:,2:6]\n",
    "X"
   ]
  },
  {
   "cell_type": "code",
   "execution_count": 28,
   "metadata": {},
   "outputs": [
    {
     "data": {
      "text/plain": [
       "array([0, 1, 0, ..., 1, 1, 1], dtype=object)"
      ]
     },
     "execution_count": 28,
     "metadata": {},
     "output_type": "execute_result"
    }
   ],
   "source": [
    "Y = dataset[:,1]\n",
    "Y"
   ]
  },
  {
   "cell_type": "code",
   "execution_count": 29,
   "metadata": {},
   "outputs": [],
   "source": [
    "from sklearn import preprocessing"
   ]
  },
  {
   "cell_type": "code",
   "execution_count": 30,
   "metadata": {},
   "outputs": [],
   "source": [
    "min_max_scaler = preprocessing.MinMaxScaler()\n",
    "X_scale = min_max_scaler.fit_transform(X)"
   ]
  },
  {
   "cell_type": "code",
   "execution_count": 31,
   "metadata": {},
   "outputs": [
    {
     "data": {
      "text/plain": [
       "array([[0., 0., 0., 0.],\n",
       "       [0., 1., 0., 0.],\n",
       "       [1., 0., 0., 0.],\n",
       "       ...,\n",
       "       [0., 1., 0., 1.],\n",
       "       [0., 1., 0., 1.],\n",
       "       [0., 1., 0., 1.]])"
      ]
     },
     "execution_count": 31,
     "metadata": {},
     "output_type": "execute_result"
    }
   ],
   "source": [
    "X_scale"
   ]
  },
  {
   "cell_type": "code",
   "execution_count": 32,
   "metadata": {},
   "outputs": [
    {
     "name": "stdout",
     "output_type": "stream",
     "text": [
      "(23077, 4) (4945, 4) (4946, 4) (23077,) (4945,) (4946,)\n"
     ]
    }
   ],
   "source": [
    "from sklearn.model_selection import train_test_split\n",
    "\n",
    "X_train, X_val_and_test, Y_train, Y_val_and_test = train_test_split(X_scale, Y, test_size=0.3)\n",
    "X_val, X_test, Y_val, Y_test = train_test_split(X_val_and_test, Y_val_and_test, test_size=0.5)\n",
    "\n",
    "print(X_train.shape, X_val.shape, X_test.shape, Y_train.shape, Y_val.shape, Y_test.shape)"
   ]
  },
  {
   "cell_type": "code",
   "execution_count": 33,
   "metadata": {},
   "outputs": [
    {
     "name": "stderr",
     "output_type": "stream",
     "text": [
      "Using TensorFlow backend.\n"
     ]
    }
   ],
   "source": [
    "from keras.models import Sequential\n",
    "from keras.layers import Dense"
   ]
  },
  {
   "cell_type": "code",
   "execution_count": 35,
   "metadata": {},
   "outputs": [],
   "source": [
    "mod = Sequential([\n",
    "    Dense(32, activation='relu', input_shape=(4,)),\n",
    "    Dense(32, activation='relu'),\n",
    "    Dense(1, activation='sigmoid'),\n",
    "])"
   ]
  },
  {
   "cell_type": "code",
   "execution_count": 36,
   "metadata": {},
   "outputs": [],
   "source": [
    "mod.compile(optimizer='sgd',\n",
    "              loss='binary_crossentropy',\n",
    "              metrics=['accuracy'])"
   ]
  },
  {
   "cell_type": "code",
   "execution_count": 37,
   "metadata": {},
   "outputs": [
    {
     "name": "stdout",
     "output_type": "stream",
     "text": [
      "Train on 23077 samples, validate on 4945 samples\n",
      "Epoch 1/100\n",
      "23077/23077 [==============================] - 1s 36us/step - loss: 0.2111 - accuracy: 0.9241 - val_loss: 0.1184 - val_accuracy: 0.9207\n",
      "Epoch 2/100\n",
      "23077/23077 [==============================] - 1s 28us/step - loss: 0.0809 - accuracy: 0.9484 - val_loss: 0.0578 - val_accuracy: 0.9826\n",
      "Epoch 3/100\n",
      "23077/23077 [==============================] - 1s 35us/step - loss: 0.0404 - accuracy: 0.9912 - val_loss: 0.0296 - val_accuracy: 1.0000\n",
      "Epoch 4/100\n",
      "23077/23077 [==============================] - 1s 34us/step - loss: 0.0218 - accuracy: 1.0000 - val_loss: 0.0167 - val_accuracy: 1.0000\n",
      "Epoch 5/100\n",
      "23077/23077 [==============================] - 1s 36us/step - loss: 0.0130 - accuracy: 1.0000 - val_loss: 0.0105 - val_accuracy: 1.0000\n",
      "Epoch 6/100\n",
      "23077/23077 [==============================] - 1s 31us/step - loss: 0.0085 - accuracy: 1.0000 - val_loss: 0.0071 - val_accuracy: 1.0000\n",
      "Epoch 7/100\n",
      "23077/23077 [==============================] - 1s 30us/step - loss: 0.0060 - accuracy: 1.0000 - val_loss: 0.0052 - val_accuracy: 1.0000\n",
      "Epoch 8/100\n",
      "23077/23077 [==============================] - 1s 30us/step - loss: 0.0045 - accuracy: 1.0000 - val_loss: 0.0040 - val_accuracy: 1.0000\n",
      "Epoch 9/100\n",
      "23077/23077 [==============================] - 1s 30us/step - loss: 0.0035 - accuracy: 1.0000 - val_loss: 0.0032 - val_accuracy: 1.0000\n",
      "Epoch 10/100\n",
      "23077/23077 [==============================] - 1s 29us/step - loss: 0.0029 - accuracy: 1.0000 - val_loss: 0.0026 - val_accuracy: 1.0000\n",
      "Epoch 11/100\n",
      "23077/23077 [==============================] - 1s 30us/step - loss: 0.0024 - accuracy: 1.0000 - val_loss: 0.0022 - val_accuracy: 1.0000\n",
      "Epoch 12/100\n",
      "23077/23077 [==============================] - 1s 29us/step - loss: 0.0021 - accuracy: 1.0000 - val_loss: 0.0019 - val_accuracy: 1.0000\n",
      "Epoch 13/100\n",
      "23077/23077 [==============================] - 1s 32us/step - loss: 0.0018 - accuracy: 1.0000 - val_loss: 0.0016 - val_accuracy: 1.0000\n",
      "Epoch 14/100\n",
      "23077/23077 [==============================] - 1s 37us/step - loss: 0.0016 - accuracy: 1.0000 - val_loss: 0.0015 - val_accuracy: 1.0000\n",
      "Epoch 15/100\n",
      "23077/23077 [==============================] - 1s 32us/step - loss: 0.0014 - accuracy: 1.0000 - val_loss: 0.0013 - val_accuracy: 1.0000\n",
      "Epoch 16/100\n",
      "23077/23077 [==============================] - 1s 32us/step - loss: 0.0013 - accuracy: 1.0000 - val_loss: 0.0012 - val_accuracy: 1.0000\n",
      "Epoch 17/100\n",
      "23077/23077 [==============================] - 1s 31us/step - loss: 0.0011 - accuracy: 1.0000 - val_loss: 0.0011 - val_accuracy: 1.0000\n",
      "Epoch 18/100\n",
      "23077/23077 [==============================] - 1s 35us/step - loss: 0.0010 - accuracy: 1.0000 - val_loss: 9.6686e-04 - val_accuracy: 1.0000\n",
      "Epoch 19/100\n",
      "23077/23077 [==============================] - 1s 32us/step - loss: 9.4708e-04 - accuracy: 1.0000 - val_loss: 8.8882e-04 - val_accuracy: 1.0000\n",
      "Epoch 20/100\n",
      "23077/23077 [==============================] - 1s 34us/step - loss: 8.7399e-04 - accuracy: 1.0000 - val_loss: 8.2118e-04 - val_accuracy: 1.0000\n",
      "Epoch 21/100\n",
      "23077/23077 [==============================] - 1s 35us/step - loss: 8.1018e-04 - accuracy: 1.0000 - val_loss: 7.6226e-04 - val_accuracy: 1.0000\n",
      "Epoch 22/100\n",
      "23077/23077 [==============================] - 1s 36us/step - loss: 7.5433e-04 - accuracy: 1.0000 - val_loss: 7.1042e-04 - val_accuracy: 1.0000\n",
      "Epoch 23/100\n",
      "23077/23077 [==============================] - 1s 34us/step - loss: 7.0497e-04 - accuracy: 1.0000 - val_loss: 6.6455e-04 - val_accuracy: 1.0000\n",
      "Epoch 24/100\n",
      "23077/23077 [==============================] - 1s 33us/step - loss: 6.6121e-04 - accuracy: 1.0000 - val_loss: 6.2396e-04 - val_accuracy: 1.0000\n",
      "Epoch 25/100\n",
      "23077/23077 [==============================] - 1s 33us/step - loss: 6.2254e-04 - accuracy: 1.0000 - val_loss: 5.8786e-04 - val_accuracy: 1.0000\n",
      "Epoch 26/100\n",
      "23077/23077 [==============================] - 1s 33us/step - loss: 5.8785e-04 - accuracy: 1.0000 - val_loss: 5.5527e-04 - val_accuracy: 1.0000\n",
      "Epoch 27/100\n",
      "23077/23077 [==============================] - 1s 34us/step - loss: 5.5642e-04 - accuracy: 1.0000 - val_loss: 5.2576e-04 - val_accuracy: 1.0000\n",
      "Epoch 28/100\n",
      "23077/23077 [==============================] - 1s 30us/step - loss: 5.2789e-04 - accuracy: 1.0000 - val_loss: 4.9898e-04 - val_accuracy: 1.0000\n",
      "Epoch 29/100\n",
      "23077/23077 [==============================] - 1s 31us/step - loss: 5.0191e-04 - accuracy: 1.0000 - val_loss: 4.7454e-04 - val_accuracy: 1.0000\n",
      "Epoch 30/100\n",
      "23077/23077 [==============================] - 1s 33us/step - loss: 4.7813e-04 - accuracy: 1.0000 - val_loss: 4.5198e-04 - val_accuracy: 1.0000\n",
      "Epoch 31/100\n",
      "23077/23077 [==============================] - 1s 33us/step - loss: 4.5612e-04 - accuracy: 1.0000 - val_loss: 4.3142e-04 - val_accuracy: 1.0000\n",
      "Epoch 32/100\n",
      "23077/23077 [==============================] - 1s 33us/step - loss: 4.3603e-04 - accuracy: 1.0000 - val_loss: 4.1247e-04 - val_accuracy: 1.0000\n",
      "Epoch 33/100\n",
      "23077/23077 [==============================] - 1s 33us/step - loss: 4.1746e-04 - accuracy: 1.0000 - val_loss: 3.9495e-04 - val_accuracy: 1.0000\n",
      "Epoch 34/100\n",
      "23077/23077 [==============================] - 1s 30us/step - loss: 4.0028e-04 - accuracy: 1.0000 - val_loss: 3.7872e-04 - val_accuracy: 1.0000\n",
      "Epoch 35/100\n",
      "23077/23077 [==============================] - 1s 33us/step - loss: 3.8432e-04 - accuracy: 1.0000 - val_loss: 3.6365e-04 - val_accuracy: 1.0000\n",
      "Epoch 36/100\n",
      "23077/23077 [==============================] - 1s 33us/step - loss: 3.6947e-04 - accuracy: 1.0000 - val_loss: 3.4965e-04 - val_accuracy: 1.0000\n",
      "Epoch 37/100\n",
      "23077/23077 [==============================] - 1s 34us/step - loss: 3.5571e-04 - accuracy: 1.0000 - val_loss: 3.3665e-04 - val_accuracy: 1.0000\n",
      "Epoch 38/100\n",
      "23077/23077 [==============================] - 1s 34us/step - loss: 3.4286e-04 - accuracy: 1.0000 - val_loss: 3.2451e-04 - val_accuracy: 1.0000\n",
      "Epoch 39/100\n",
      "23077/23077 [==============================] - 1s 34us/step - loss: 3.3084e-04 - accuracy: 1.0000 - val_loss: 3.1310e-04 - val_accuracy: 1.0000\n",
      "Epoch 40/100\n",
      "23077/23077 [==============================] - 1s 33us/step - loss: 3.1953e-04 - accuracy: 1.0000 - val_loss: 3.0232e-04 - val_accuracy: 1.0000\n",
      "Epoch 41/100\n",
      "23077/23077 [==============================] - 1s 31us/step - loss: 3.0883e-04 - accuracy: 1.0000 - val_loss: 2.9228e-04 - val_accuracy: 1.0000\n",
      "Epoch 42/100\n",
      "23077/23077 [==============================] - 1s 32us/step - loss: 2.9884e-04 - accuracy: 1.0000 - val_loss: 2.8282e-04 - val_accuracy: 1.0000\n",
      "Epoch 43/100\n",
      "23077/23077 [==============================] - 1s 31us/step - loss: 2.8943e-04 - accuracy: 1.0000 - val_loss: 2.7390e-04 - val_accuracy: 1.0000\n",
      "Epoch 44/100\n",
      "23077/23077 [==============================] - 1s 30us/step - loss: 2.8054e-04 - accuracy: 1.0000 - val_loss: 2.6547e-04 - val_accuracy: 1.0000\n",
      "Epoch 45/100\n",
      "23077/23077 [==============================] - 1s 29us/step - loss: 2.7213e-04 - accuracy: 1.0000 - val_loss: 2.5750e-04 - val_accuracy: 1.0000\n",
      "Epoch 46/100\n",
      "23077/23077 [==============================] - 1s 33us/step - loss: 2.6416e-04 - accuracy: 1.0000 - val_loss: 2.4995e-04 - val_accuracy: 1.0000\n",
      "Epoch 47/100\n",
      "23077/23077 [==============================] - 1s 33us/step - loss: 2.5661e-04 - accuracy: 1.0000 - val_loss: 2.4279e-04 - val_accuracy: 1.0000\n",
      "Epoch 48/100\n",
      "23077/23077 [==============================] - 1s 31us/step - loss: 2.4944e-04 - accuracy: 1.0000 - val_loss: 2.3599e-04 - val_accuracy: 1.0000\n",
      "Epoch 49/100\n",
      "23077/23077 [==============================] - 1s 32us/step - loss: 2.4262e-04 - accuracy: 1.0000 - val_loss: 2.2952e-04 - val_accuracy: 1.0000\n",
      "Epoch 50/100\n",
      "23077/23077 [==============================] - 1s 33us/step - loss: 2.3613e-04 - accuracy: 1.0000 - val_loss: 2.2337e-04 - val_accuracy: 1.0000\n",
      "Epoch 51/100\n",
      "23077/23077 [==============================] - 1s 31us/step - loss: 2.2995e-04 - accuracy: 1.0000 - val_loss: 2.1751e-04 - val_accuracy: 1.0000\n",
      "Epoch 52/100\n",
      "23077/23077 [==============================] - 1s 33us/step - loss: 2.2406e-04 - accuracy: 1.0000 - val_loss: 2.1192e-04 - val_accuracy: 1.0000\n",
      "Epoch 53/100\n",
      "23077/23077 [==============================] - 1s 33us/step - loss: 2.1844e-04 - accuracy: 1.0000 - val_loss: 2.0659e-04 - val_accuracy: 1.0000\n"
     ]
    },
    {
     "name": "stdout",
     "output_type": "stream",
     "text": [
      "Epoch 54/100\n",
      "23077/23077 [==============================] - 1s 31us/step - loss: 2.1306e-04 - accuracy: 1.0000 - val_loss: 2.0149e-04 - val_accuracy: 1.0000\n",
      "Epoch 55/100\n",
      "23077/23077 [==============================] - 1s 31us/step - loss: 2.0792e-04 - accuracy: 1.0000 - val_loss: 1.9662e-04 - val_accuracy: 1.0000\n",
      "Epoch 56/100\n",
      "23077/23077 [==============================] - 1s 32us/step - loss: 2.0301e-04 - accuracy: 1.0000 - val_loss: 1.9195e-04 - val_accuracy: 1.0000\n",
      "Epoch 57/100\n",
      "23077/23077 [==============================] - 1s 32us/step - loss: 1.9829e-04 - accuracy: 1.0000 - val_loss: 1.8748e-04 - val_accuracy: 1.0000\n",
      "Epoch 58/100\n",
      "23077/23077 [==============================] - 1s 33us/step - loss: 1.9377e-04 - accuracy: 1.0000 - val_loss: 1.8319e-04 - val_accuracy: 1.0000\n",
      "Epoch 59/100\n",
      "23077/23077 [==============================] - 1s 32us/step - loss: 1.8944e-04 - accuracy: 1.0000 - val_loss: 1.7908e-04 - val_accuracy: 1.0000\n",
      "Epoch 60/100\n",
      "23077/23077 [==============================] - 1s 31us/step - loss: 1.8528e-04 - accuracy: 1.0000 - val_loss: 1.7512e-04 - val_accuracy: 1.0000\n",
      "Epoch 61/100\n",
      "23077/23077 [==============================] - 1s 30us/step - loss: 1.8127e-04 - accuracy: 1.0000 - val_loss: 1.7133e-04 - val_accuracy: 1.0000\n",
      "Epoch 62/100\n",
      "23077/23077 [==============================] - 1s 35us/step - loss: 1.7743e-04 - accuracy: 1.0000 - val_loss: 1.6768e-04 - val_accuracy: 1.0000\n",
      "Epoch 63/100\n",
      "23077/23077 [==============================] - 1s 34us/step - loss: 1.7373e-04 - accuracy: 1.0000 - val_loss: 1.6418e-04 - val_accuracy: 1.0000\n",
      "Epoch 64/100\n",
      "23077/23077 [==============================] - 1s 33us/step - loss: 1.7017e-04 - accuracy: 1.0000 - val_loss: 1.6080e-04 - val_accuracy: 1.0000\n",
      "Epoch 65/100\n",
      "23077/23077 [==============================] - 1s 29us/step - loss: 1.6674e-04 - accuracy: 1.0000 - val_loss: 1.5754e-04 - val_accuracy: 1.0000\n",
      "Epoch 66/100\n",
      "23077/23077 [==============================] - 1s 32us/step - loss: 1.6343e-04 - accuracy: 1.0000 - val_loss: 1.5442e-04 - val_accuracy: 1.0000\n",
      "Epoch 67/100\n",
      "23077/23077 [==============================] - 1s 30us/step - loss: 1.6026e-04 - accuracy: 1.0000 - val_loss: 1.5141e-04 - val_accuracy: 1.0000\n",
      "Epoch 68/100\n",
      "23077/23077 [==============================] - 1s 29us/step - loss: 1.5719e-04 - accuracy: 1.0000 - val_loss: 1.4850e-04 - val_accuracy: 1.0000\n",
      "Epoch 69/100\n",
      "23077/23077 [==============================] - 1s 35us/step - loss: 1.5423e-04 - accuracy: 1.0000 - val_loss: 1.4569e-04 - val_accuracy: 1.0000\n",
      "Epoch 70/100\n",
      "23077/23077 [==============================] - 1s 36us/step - loss: 1.5137e-04 - accuracy: 1.0000 - val_loss: 1.4297e-04 - val_accuracy: 1.0000\n",
      "Epoch 71/100\n",
      "23077/23077 [==============================] - 1s 36us/step - loss: 1.4860e-04 - accuracy: 1.0000 - val_loss: 1.4035e-04 - val_accuracy: 1.0000\n",
      "Epoch 72/100\n",
      "23077/23077 [==============================] - 1s 31us/step - loss: 1.4593e-04 - accuracy: 1.0000 - val_loss: 1.3781e-04 - val_accuracy: 1.0000\n",
      "Epoch 73/100\n",
      "23077/23077 [==============================] - 1s 31us/step - loss: 1.4334e-04 - accuracy: 1.0000 - val_loss: 1.3535e-04 - val_accuracy: 1.0000\n",
      "Epoch 74/100\n",
      "23077/23077 [==============================] - 1s 28us/step - loss: 1.4083e-04 - accuracy: 1.0000 - val_loss: 1.3298e-04 - val_accuracy: 1.0000\n",
      "Epoch 75/100\n",
      "23077/23077 [==============================] - 1s 34us/step - loss: 1.3840e-04 - accuracy: 1.0000 - val_loss: 1.3067e-04 - val_accuracy: 1.0000\n",
      "Epoch 76/100\n",
      "23077/23077 [==============================] - 1s 32us/step - loss: 1.3605e-04 - accuracy: 1.0000 - val_loss: 1.2844e-04 - val_accuracy: 1.0000\n",
      "Epoch 77/100\n",
      "23077/23077 [==============================] - 1s 29us/step - loss: 1.3377e-04 - accuracy: 1.0000 - val_loss: 1.2627e-04 - val_accuracy: 1.0000\n",
      "Epoch 78/100\n",
      "23077/23077 [==============================] - 1s 30us/step - loss: 1.3155e-04 - accuracy: 1.0000 - val_loss: 1.2417e-04 - val_accuracy: 1.0000\n",
      "Epoch 79/100\n",
      "23077/23077 [==============================] - 1s 30us/step - loss: 1.2940e-04 - accuracy: 1.0000 - val_loss: 1.2213e-04 - val_accuracy: 1.0000\n",
      "Epoch 80/100\n",
      "23077/23077 [==============================] - 1s 28us/step - loss: 1.2731e-04 - accuracy: 1.0000 - val_loss: 1.2015e-04 - val_accuracy: 1.0000\n",
      "Epoch 81/100\n",
      "23077/23077 [==============================] - 1s 28us/step - loss: 1.2528e-04 - accuracy: 1.0000 - val_loss: 1.1823e-04 - val_accuracy: 1.0000\n",
      "Epoch 82/100\n",
      "23077/23077 [==============================] - 1s 30us/step - loss: 1.2332e-04 - accuracy: 1.0000 - val_loss: 1.1636e-04 - val_accuracy: 1.0000\n",
      "Epoch 83/100\n",
      "23077/23077 [==============================] - 1s 28us/step - loss: 1.2141e-04 - accuracy: 1.0000 - val_loss: 1.1455e-04 - val_accuracy: 1.0000\n",
      "Epoch 84/100\n",
      "23077/23077 [==============================] - 1s 29us/step - loss: 1.1955e-04 - accuracy: 1.0000 - val_loss: 1.1279e-04 - val_accuracy: 1.0000\n",
      "Epoch 85/100\n",
      "23077/23077 [==============================] - 1s 29us/step - loss: 1.1774e-04 - accuracy: 1.0000 - val_loss: 1.1108e-04 - val_accuracy: 1.0000\n",
      "Epoch 86/100\n",
      "23077/23077 [==============================] - 1s 28us/step - loss: 1.1599e-04 - accuracy: 1.0000 - val_loss: 1.0942e-04 - val_accuracy: 1.0000\n",
      "Epoch 87/100\n",
      "23077/23077 [==============================] - 1s 29us/step - loss: 1.1428e-04 - accuracy: 1.0000 - val_loss: 1.0779e-04 - val_accuracy: 1.0000\n",
      "Epoch 88/100\n",
      "23077/23077 [==============================] - 1s 29us/step - loss: 1.1261e-04 - accuracy: 1.0000 - val_loss: 1.0621e-04 - val_accuracy: 1.0000\n",
      "Epoch 89/100\n",
      "23077/23077 [==============================] - 1s 27us/step - loss: 1.1099e-04 - accuracy: 1.0000 - val_loss: 1.0468e-04 - val_accuracy: 1.0000\n",
      "Epoch 90/100\n",
      "23077/23077 [==============================] - 1s 29us/step - loss: 1.0941e-04 - accuracy: 1.0000 - val_loss: 1.0318e-04 - val_accuracy: 1.0000\n",
      "Epoch 91/100\n",
      "23077/23077 [==============================] - 1s 28us/step - loss: 1.0787e-04 - accuracy: 1.0000 - val_loss: 1.0172e-04 - val_accuracy: 1.0000\n",
      "Epoch 92/100\n",
      "23077/23077 [==============================] - 1s 28us/step - loss: 1.0637e-04 - accuracy: 1.0000 - val_loss: 1.0030e-04 - val_accuracy: 1.0000\n",
      "Epoch 93/100\n",
      "23077/23077 [==============================] - 1s 29us/step - loss: 1.0491e-04 - accuracy: 1.0000 - val_loss: 9.8917e-05 - val_accuracy: 1.0000\n",
      "Epoch 94/100\n",
      "23077/23077 [==============================] - 1s 27us/step - loss: 1.0349e-04 - accuracy: 1.0000 - val_loss: 9.7568e-05 - val_accuracy: 1.0000\n",
      "Epoch 95/100\n",
      "23077/23077 [==============================] - 1s 28us/step - loss: 1.0210e-04 - accuracy: 1.0000 - val_loss: 9.6252e-05 - val_accuracy: 1.0000\n",
      "Epoch 96/100\n",
      "23077/23077 [==============================] - 1s 28us/step - loss: 1.0074e-04 - accuracy: 1.0000 - val_loss: 9.4955e-05 - val_accuracy: 1.0000\n",
      "Epoch 97/100\n",
      "23077/23077 [==============================] - 1s 28us/step - loss: 9.9408e-05 - accuracy: 1.0000 - val_loss: 9.3701e-05 - val_accuracy: 1.0000\n",
      "Epoch 98/100\n",
      "23077/23077 [==============================] - 1s 27us/step - loss: 9.8116e-05 - accuracy: 1.0000 - val_loss: 9.2477e-05 - val_accuracy: 1.0000\n",
      "Epoch 99/100\n",
      "23077/23077 [==============================] - 1s 28us/step - loss: 9.6855e-05 - accuracy: 1.0000 - val_loss: 9.1281e-05 - val_accuracy: 1.0000\n",
      "Epoch 100/100\n",
      "23077/23077 [==============================] - 1s 29us/step - loss: 9.5622e-05 - accuracy: 1.0000 - val_loss: 9.0113e-05 - val_accuracy: 1.0000\n"
     ]
    }
   ],
   "source": [
    "hist = mod.fit(X_train, Y_train,\n",
    "          batch_size=32, epochs=100,\n",
    "          validation_data=(X_val, Y_val))"
   ]
  },
  {
   "cell_type": "code",
   "execution_count": 38,
   "metadata": {},
   "outputs": [
    {
     "name": "stdout",
     "output_type": "stream",
     "text": [
      "4946/4946 [==============================] - 0s 15us/step\n"
     ]
    },
    {
     "data": {
      "text/plain": [
       "1.0"
      ]
     },
     "execution_count": 38,
     "metadata": {},
     "output_type": "execute_result"
    }
   ],
   "source": [
    "mod.evaluate(X_test, Y_test)[1]"
   ]
  },
  {
   "cell_type": "code",
   "execution_count": 39,
   "metadata": {},
   "outputs": [],
   "source": [
    "import matplotlib.pyplot as plt"
   ]
  },
  {
   "cell_type": "code",
   "execution_count": 40,
   "metadata": {},
   "outputs": [
    {
     "data": {
      "image/png": "[encoded data removed]",
      "text/plain": [
       "<Figure size 432x288 with 1 Axes>"
      ]
     },
     "metadata": {
      "needs_background": "light"
     },
     "output_type": "display_data"
    }
   ],
   "source": [
    "plt.plot(hist.history['loss'])\n",
    "plt.plot(hist.history['val_loss'])\n",
    "plt.title('Model loss')\n",
    "plt.ylabel('Loss')\n",
    "plt.xlabel('Epoch')\n",
    "plt.legend(['Train', 'Val'], loc='upper right')\n",
    "plt.show()"
   ]
  },
  {
   "cell_type": "code",
   "execution_count": 43,
   "metadata": {},
   "outputs": [
    {
     "data": {
      "image/png": "[encoded data removed]",
      "text/plain": [
       "<Figure size 432x288 with 1 Axes>"
      ]
     },
     "metadata": {
      "needs_background": "light"
     },
     "output_type": "display_data"
    }
   ],
   "source": [
    "plt.plot(hist.history['accuracy'])\n",
    "plt.plot(hist.history['val_accuracy'])\n",
    "plt.title('Model accuracy')\n",
    "plt.ylabel('Accuracy')\n",
    "plt.xlabel('Epoch')\n",
    "plt.legend(['Train', 'Val'], loc='lower right')\n",
    "plt.show()"
   ]
  },
  {
   "cell_type": "code",
   "execution_count": null,
   "metadata": {},
   "outputs": [],
   "source": []
  }
 ],
 "metadata": {
  "kernelspec": {
   "display_name": "Python 3",
   "language": "python",
   "name": "python3"
  },
  "language_info": {
   "codemirror_mode": {
    "name": "ipython",
    "version": 3
   },
   "file_extension": ".py",
   "mimetype": "text/x-python",
   "name": "python",
   "nbconvert_exporter": "python",
   "pygments_lexer": "ipython3",
   "version": "3.7.4"
  }
 },
 "nbformat": 4,
 "nbformat_minor": 2
}
