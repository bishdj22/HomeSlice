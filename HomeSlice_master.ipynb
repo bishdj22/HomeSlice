{
 "cells": [
  {
   "cell_type": "code",
   "execution_count": 1,
   "metadata": {},
   "outputs": [],
   "source": [
    "#from config import (census_key, gkey)\n",
    "import numpy as np\n",
    "import pandas as pd\n",
    "import requests\n",
    "import zillow\n",
    "import pprint as pp\n",
    "import json"
   ]
  },
  {
   "cell_type": "code",
   "execution_count": 2,
   "metadata": {},
   "outputs": [],
   "source": [
    "#----API Reference GitHub --> https://github.com/seme0021/python-zillow\n",
    "\n",
    "api = zillow.ValuationApi()\n",
    "key = \"X1-ZWz17fdl35adqj_3bebs\""
   ]
  },
  {
   "cell_type": "code",
   "execution_count": 3,
   "metadata": {},
   "outputs": [],
   "source": [
    "#address = input('123 Streetname Rd, City, State ')\n",
    "#postal_code = input('Zip Code')"
   ]
  },
  {
   "cell_type": "code",
   "execution_count": 4,
   "metadata": {},
   "outputs": [],
   "source": [
    "#TEST ADDRESS: 14 Hayes Ave, Elizabeth, NJ 07202\n",
    "\n",
    "address = \"501 Shumaker Dr, Monroeville, PA\"\n",
    "postal_code = \"15146\"\n",
    "\n",
    "\n",
    "request_data = api.GetSearchResults(key, address, postal_code)"
   ]
  },
  {
   "cell_type": "code",
   "execution_count": null,
   "metadata": {},
   "outputs": [],
   "source": []
  },
  {
   "cell_type": "code",
   "execution_count": 5,
   "metadata": {},
   "outputs": [
    {
     "data": {
      "text/plain": [
       "{'zpid': '11626766',\n",
       " 'similarity_score': None,\n",
       " 'links': {'home_details': 'https://www.zillow.com/homedetails/501-Shumaker-Dr-Monroeville-PA-15146/11626766_zpid/',\n",
       "  'graphs_and_data': 'http://www.zillow.com/homedetails/501-Shumaker-Dr-Monroeville-PA-15146/11626766_zpid/#charts-and-data',\n",
       "  'map_this_home': 'http://www.zillow.com/homes/11626766_zpid/',\n",
       "  'comparables': 'http://www.zillow.com/homes/comps/11626766_zpid/'},\n",
       " 'full_address': {'street': '501 Shumaker Dr',\n",
       "  'zipcode': '15146',\n",
       "  'city': 'Monroeville',\n",
       "  'state': 'PA',\n",
       "  'latitude': '40.456694',\n",
       "  'longitude': '-79.763917'},\n",
       " 'zestimate': {'amount': 194868,\n",
       "  'amount_currency': 'USD',\n",
       "  'amount_last_updated': '04/01/2020',\n",
       "  'amount_change_30days': 3312,\n",
       "  'valuation_range_low': 185125,\n",
       "  'valuation_range_high': 216303},\n",
       " 'local_realestate': {'region_name': 'Monroeville',\n",
       "  'region_id': '46582',\n",
       "  'region_type': 'city',\n",
       "  'overview_link': 'http://www.zillow.com/local-info/PA-Monroeville/r_46582/',\n",
       "  'fsbo_link': 'http://www.zillow.com/monroeville-pa/fsbo/',\n",
       "  'sale_link': 'http://www.zillow.com/monroeville-pa/',\n",
       "  'zillow_home_value_index': None},\n",
       " 'extended_data': {'fips_county': None,\n",
       "  'usecode': None,\n",
       "  'tax_assessment_year': None,\n",
       "  'tax_assessment': None,\n",
       "  'year_built': None,\n",
       "  'lot_size_sqft': None,\n",
       "  'finished_sqft': None,\n",
       "  'bathrooms': None,\n",
       "  'bedrooms': None,\n",
       "  'last_sold_date': None,\n",
       "  'last_sold_price': None,\n",
       "  'complete': False}}"
      ]
     },
     "execution_count": 5,
     "metadata": {},
     "output_type": "execute_result"
    }
   ],
   "source": [
    "result = request_data.get_dict()\n",
    "result"
   ]
  },
  {
   "cell_type": "code",
   "execution_count": 6,
   "metadata": {},
   "outputs": [],
   "source": [
    "def Merge(dict1, dict2): \n",
    "    return(dict2.update(dict1)) "
   ]
  },
  {
   "cell_type": "code",
   "execution_count": 7,
   "metadata": {},
   "outputs": [
    {
     "data": {
      "text/plain": [
       "{'amount': 194868,\n",
       " 'amount_currency': 'USD',\n",
       " 'amount_last_updated': '04/01/2020',\n",
       " 'amount_change_30days': 3312,\n",
       " 'valuation_range_low': 185125,\n",
       " 'valuation_range_high': 216303}"
      ]
     },
     "execution_count": 7,
     "metadata": {},
     "output_type": "execute_result"
    }
   ],
   "source": [
    "zestimate = result['zestimate']\n",
    "zestimate"
   ]
  },
  {
   "cell_type": "code",
   "execution_count": 8,
   "metadata": {},
   "outputs": [
    {
     "data": {
      "text/plain": [
       "{'street': '501 Shumaker Dr',\n",
       " 'zipcode': '15146',\n",
       " 'city': 'Monroeville',\n",
       " 'state': 'PA',\n",
       " 'latitude': '40.456694',\n",
       " 'longitude': '-79.763917'}"
      ]
     },
     "execution_count": 8,
     "metadata": {},
     "output_type": "execute_result"
    }
   ],
   "source": [
    "address = result['full_address']\n",
    "address"
   ]
  },
  {
   "cell_type": "code",
   "execution_count": 9,
   "metadata": {},
   "outputs": [],
   "source": [
    "local = result['local_realestate']"
   ]
  },
  {
   "cell_type": "code",
   "execution_count": 10,
   "metadata": {},
   "outputs": [],
   "source": [
    "merge_data = Merge(zestimate, local)\n",
    "merge_data"
   ]
  },
  {
   "cell_type": "code",
   "execution_count": 11,
   "metadata": {},
   "outputs": [
    {
     "data": {
      "text/html": [
       "<div>\n",
       "<style scoped>\n",
       "    .dataframe tbody tr th:only-of-type {\n",
       "        vertical-align: middle;\n",
       "    }\n",
       "\n",
       "    .dataframe tbody tr th {\n",
       "        vertical-align: top;\n",
       "    }\n",
       "\n",
       "    .dataframe thead th {\n",
       "        text-align: right;\n",
       "    }\n",
       "</style>\n",
       "<table border=\"1\" class=\"dataframe\">\n",
       "  <thead>\n",
       "    <tr style=\"text-align: right;\">\n",
       "      <th></th>\n",
       "      <th>amount</th>\n",
       "      <th>amount_currency</th>\n",
       "      <th>amount_last_updated</th>\n",
       "      <th>amount_change_30days</th>\n",
       "      <th>valuation_range_low</th>\n",
       "      <th>valuation_range_high</th>\n",
       "    </tr>\n",
       "  </thead>\n",
       "  <tbody>\n",
       "    <tr>\n",
       "      <th>0</th>\n",
       "      <td>194868</td>\n",
       "      <td>USD</td>\n",
       "      <td>04/01/2020</td>\n",
       "      <td>3312</td>\n",
       "      <td>185125</td>\n",
       "      <td>216303</td>\n",
       "    </tr>\n",
       "  </tbody>\n",
       "</table>\n",
       "</div>"
      ],
      "text/plain": [
       "   amount amount_currency amount_last_updated amount_change_30days  \\\n",
       "0  194868             USD          04/01/2020                 3312   \n",
       "\n",
       "  valuation_range_low valuation_range_high  \n",
       "0              185125               216303  "
      ]
     },
     "execution_count": 11,
     "metadata": {},
     "output_type": "execute_result"
    }
   ],
   "source": [
    "test_log = pd.DataFrame.from_dict(zestimate, orient='index').T\n",
    "test_log"
   ]
  },
  {
   "cell_type": "code",
   "execution_count": 12,
   "metadata": {},
   "outputs": [],
   "source": []
  },
  {
   "cell_type": "code",
   "execution_count": 13,
   "metadata": {},
   "outputs": [],
   "source": [
    "#Function to call data from Zillow and return dataframe\n",
    "\n",
    "def address_search(address, postal_code):\n",
    "    request_data = api.GetSearchResults(key, address, postal_code)\n",
    "    result = request_data.get_dict()\n",
    "    address = result['full_address']\n",
    "    \n",
    "    zestimate = result['zestimate']\n",
    "    comb_dict = dict(zestimate)\n",
    "    comb_dict.update(address)\n",
    "    zestimate_df = pd.DataFrame.from_dict(comb_dict, orient='index').T\n",
    "\n",
    "    return(zestimate_df)\n"
   ]
  },
  {
   "cell_type": "code",
   "execution_count": 14,
   "metadata": {},
   "outputs": [
    {
     "data": {
      "text/html": [
       "<div>\n",
       "<style scoped>\n",
       "    .dataframe tbody tr th:only-of-type {\n",
       "        vertical-align: middle;\n",
       "    }\n",
       "\n",
       "    .dataframe tbody tr th {\n",
       "        vertical-align: top;\n",
       "    }\n",
       "\n",
       "    .dataframe thead th {\n",
       "        text-align: right;\n",
       "    }\n",
       "</style>\n",
       "<table border=\"1\" class=\"dataframe\">\n",
       "  <thead>\n",
       "    <tr style=\"text-align: right;\">\n",
       "      <th></th>\n",
       "      <th>amount</th>\n",
       "      <th>amount_currency</th>\n",
       "      <th>amount_last_updated</th>\n",
       "      <th>amount_change_30days</th>\n",
       "      <th>valuation_range_low</th>\n",
       "      <th>valuation_range_high</th>\n",
       "      <th>street</th>\n",
       "      <th>zipcode</th>\n",
       "      <th>city</th>\n",
       "      <th>state</th>\n",
       "      <th>latitude</th>\n",
       "      <th>longitude</th>\n",
       "    </tr>\n",
       "  </thead>\n",
       "  <tbody>\n",
       "    <tr>\n",
       "      <th>0</th>\n",
       "      <td>493012</td>\n",
       "      <td>USD</td>\n",
       "      <td>04/01/2020</td>\n",
       "      <td>-1878</td>\n",
       "      <td>448641</td>\n",
       "      <td>566964</td>\n",
       "      <td>317 E 8th Ave</td>\n",
       "      <td>08260</td>\n",
       "      <td>Wildwood</td>\n",
       "      <td>NJ</td>\n",
       "      <td>39.00134</td>\n",
       "      <td>-74.794258</td>\n",
       "    </tr>\n",
       "  </tbody>\n",
       "</table>\n",
       "</div>"
      ],
      "text/plain": [
       "   amount amount_currency amount_last_updated amount_change_30days  \\\n",
       "0  493012             USD          04/01/2020                -1878   \n",
       "\n",
       "  valuation_range_low valuation_range_high         street zipcode      city  \\\n",
       "0              448641               566964  317 E 8th Ave   08260  Wildwood   \n",
       "\n",
       "  state  latitude   longitude  \n",
       "0    NJ  39.00134  -74.794258  "
      ]
     },
     "execution_count": 14,
     "metadata": {},
     "output_type": "execute_result"
    }
   ],
   "source": [
    "master_df = address_search(\"317 E 8th Ave, North Wildwood, NJ\",\"08260\")\n",
    "master_df"
   ]
  },
  {
   "cell_type": "code",
   "execution_count": null,
   "metadata": {},
   "outputs": [],
   "source": []
  },
  {
   "cell_type": "code",
   "execution_count": null,
   "metadata": {},
   "outputs": [],
   "source": []
  }
 ],
 "metadata": {
  "kernelspec": {
   "display_name": "Python 3",
   "language": "python",
   "name": "python3"
  },
  "language_info": {
   "codemirror_mode": {
    "name": "ipython",
    "version": 3
   },
   "file_extension": ".py",
   "mimetype": "text/x-python",
   "name": "python",
   "nbconvert_exporter": "python",
   "pygments_lexer": "ipython3",
   "version": "3.6.9"
  }
 },
 "nbformat": 4,
 "nbformat_minor": 2
}
