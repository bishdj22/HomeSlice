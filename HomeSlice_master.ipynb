{
 "cells": [
  {
   "cell_type": "code",
   "execution_count": 19,
   "metadata": {},
   "outputs": [],
   "source": [
    "#from config import (census_key, gkey)\n",
    "import numpy as np\n",
    "import pandas as pd\n",
    "import requests\n",
    "import zillow\n",
    "import pprint as pp"
   ]
  },
  {
   "cell_type": "code",
   "execution_count": 20,
   "metadata": {},
   "outputs": [],
   "source": [
    "#----API Reference GitHub --> https://github.com/seme0021/python-zillow\n",
    "\n",
    "api = zillow.ValuationApi()\n",
    "key = \"X1-ZWz17fdl35adqj_3bebs\""
   ]
  },
  {
   "cell_type": "code",
   "execution_count": 21,
   "metadata": {},
   "outputs": [],
   "source": [
    "#address = input('123 Streetname Rd, City, State ')\n",
    "#postal_code = input('Zip Code')"
   ]
  },
  {
   "cell_type": "code",
   "execution_count": 22,
   "metadata": {},
   "outputs": [],
   "source": [
    "#TEST ADDRESS: 14 Hayes Ave, Elizabeth, NJ 07202\n",
    "\n",
    "address = \"501 Shumaker Dr, Monroeville, PA\"\n",
    "postal_code = \"15146\"\n",
    "\n",
    "\n",
    "request_data = api.GetSearchResults(key, address, postal_code)"
   ]
  },
  {
   "cell_type": "code",
   "execution_count": 29,
   "metadata": {},
   "outputs": [
    {
     "data": {
      "text/plain": [
       "{'zpid': '11626766',\n",
       " 'similarity_score': None,\n",
       " 'links': {'home_details': 'https://www.zillow.com/homedetails/501-Shumaker-Dr-Monroeville-PA-15146/11626766_zpid/',\n",
       "  'graphs_and_data': 'http://www.zillow.com/homedetails/501-Shumaker-Dr-Monroeville-PA-15146/11626766_zpid/#charts-and-data',\n",
       "  'map_this_home': 'http://www.zillow.com/homes/11626766_zpid/',\n",
       "  'comparables': 'http://www.zillow.com/homes/comps/11626766_zpid/'},\n",
       " 'full_address': {'street': '501 Shumaker Dr',\n",
       "  'zipcode': '15146',\n",
       "  'city': 'Monroeville',\n",
       "  'state': 'PA',\n",
       "  'latitude': '40.456694',\n",
       "  'longitude': '-79.763917'},\n",
       " 'zestimate': {'amount': 191457,\n",
       "  'amount_currency': 'USD',\n",
       "  'amount_last_updated': '02/28/2020',\n",
       "  'amount_change_30days': 2696,\n",
       "  'valuation_range_low': 181884,\n",
       "  'valuation_range_high': 214432},\n",
       " 'local_realestate': {'region_name': 'Monroeville',\n",
       "  'region_id': '46582',\n",
       "  'region_type': 'city',\n",
       "  'overview_link': 'http://www.zillow.com/local-info/PA-Monroeville/r_46582/',\n",
       "  'fsbo_link': 'http://www.zillow.com/monroeville-pa/fsbo/',\n",
       "  'sale_link': 'http://www.zillow.com/monroeville-pa/',\n",
       "  'zillow_home_value_index': None},\n",
       " 'extended_data': {'fips_county': None,\n",
       "  'usecode': None,\n",
       "  'tax_assessment_year': None,\n",
       "  'tax_assessment': None,\n",
       "  'year_built': None,\n",
       "  'lot_size_sqft': None,\n",
       "  'finished_sqft': None,\n",
       "  'bathrooms': None,\n",
       "  'bedrooms': None,\n",
       "  'last_sold_date': None,\n",
       "  'last_sold_price': None,\n",
       "  'complete': False}}"
      ]
     },
     "execution_count": 29,
     "metadata": {},
     "output_type": "execute_result"
    }
   ],
   "source": [
    "result = request_data.get_dict()\n",
    "result"
   ]
  },
  {
   "cell_type": "code",
   "execution_count": 13,
   "metadata": {},
   "outputs": [
    {
     "data": {
      "text/plain": [
       "{'amount': 191457,\n",
       " 'amount_currency': 'USD',\n",
       " 'amount_last_updated': '02/28/2020',\n",
       " 'amount_change_30days': 2696,\n",
       " 'valuation_range_low': 181884,\n",
       " 'valuation_range_high': 214432}"
      ]
     },
     "execution_count": 13,
     "metadata": {},
     "output_type": "execute_result"
    }
   ],
   "source": [
    "zestimate = result['zestimate']\n",
    "zestimate"
   ]
  },
  {
   "cell_type": "code",
   "execution_count": 36,
   "metadata": {},
   "outputs": [
    {
     "data": {
      "text/plain": [
       "{'street': '501 Shumaker Dr',\n",
       " 'zipcode': '15146',\n",
       " 'city': 'Monroeville',\n",
       " 'state': 'PA',\n",
       " 'latitude': '40.456694',\n",
       " 'longitude': '-79.763917'}"
      ]
     },
     "execution_count": 36,
     "metadata": {},
     "output_type": "execute_result"
    }
   ],
   "source": [
    "address = result['full_address']\n",
    "address"
   ]
  },
  {
   "cell_type": "code",
   "execution_count": 38,
   "metadata": {},
   "outputs": [
    {
     "data": {
      "text/plain": [
       "'501 Shumaker Dr'"
      ]
     },
     "execution_count": 38,
     "metadata": {},
     "output_type": "execute_result"
    }
   ],
   "source": [
    "address['street']\n"
   ]
  },
  {
   "cell_type": "code",
   "execution_count": null,
   "metadata": {},
   "outputs": [],
   "source": [
    "address = \"501 Shumaker Dr, Monroeville, PA\"\n",
    "postal_code = \"15146\"\n",
    "\n",
    "def address_search(address, postal_code):\n",
    "    zestimate_list = []\n",
    "    request_data = api.GetSearchResults(key, address, postal_code)\n",
    "    result = request_data.get_dict()\n",
    "    \n",
    "    zestimate_val = result['zestimate']\n",
    "    print(zestimate_val['amount'])\n",
    "    \n",
    "    \n",
    "    \n"
   ]
  },
  {
   "cell_type": "code",
   "execution_count": 45,
   "metadata": {},
   "outputs": [
    {
     "name": "stdout",
     "output_type": "stream",
     "text": [
      "191457\n"
     ]
    }
   ],
   "source": [
    "address_search(\"501 Shumaker Dr, Monroeville, PA\",\"15146\")"
   ]
  },
  {
   "cell_type": "code",
   "execution_count": null,
   "metadata": {},
   "outputs": [],
   "source": []
  }
 ],
 "metadata": {
  "kernelspec": {
   "display_name": "Python 3",
   "language": "python",
   "name": "python3"
  },
  "language_info": {
   "codemirror_mode": {
    "name": "ipython",
    "version": 3
   },
   "file_extension": ".py",
   "mimetype": "text/x-python",
   "name": "python",
   "nbconvert_exporter": "python",
   "pygments_lexer": "ipython3",
   "version": "3.6.9"
  }
 },
 "nbformat": 4,
 "nbformat_minor": 2
}
