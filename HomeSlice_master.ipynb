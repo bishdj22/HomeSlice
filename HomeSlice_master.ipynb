{
 "cells": [
  {
   "cell_type": "code",
   "execution_count": 1,
   "metadata": {},
   "outputs": [],
   "source": [
    "#from config import (census_key, gkey)\n",
    "import numpy as np\n",
    "import pandas as pd\n",
    "import requests\n",
    "import zillow\n",
    "# import pprint as pp\n",
    "import json\n",
    "from sqlalchemy import create_engine"
   ]
  },
  {
   "cell_type": "code",
   "execution_count": 19,
   "metadata": {},
   "outputs": [],
   "source": [
    "  #######DB Setup and Loading#########\n",
    "#connection_string = \"postgres:Password@localhost:5432/zillow\"\n",
    "connection_string = \"postgres:apartment@homeslice.cjnrjw08kldx.us-east-2.rds.amazonaws.com:5432/HomeSliceDB\"\n",
    "engine = create_engine(f'postgresql://{connection_string}')"
   ]
  },
  {
   "cell_type": "code",
   "execution_count": 5,
   "metadata": {},
   "outputs": [],
   "source": [
    "#----API Reference GitHub --> https://github.com/seme0021/python-zillow\n",
    "\n",
    "api = zillow.ValuationApi()\n",
    "key = \"X1-ZWz17fdl35adqj_3bebs\""
   ]
  },
  {
   "cell_type": "code",
   "execution_count": null,
   "metadata": {},
   "outputs": [],
   "source": []
  },
  {
   "cell_type": "code",
   "execution_count": 6,
   "metadata": {},
   "outputs": [],
   "source": [
    "#TEST ADDRESS: 14 Hayes Ave, Elizabeth, NJ 07202\n",
    "\n",
    "address = \"501 Shumaker Dr, Monroeville, PA\"\n",
    "postal_code = \"15146\"\n",
    "\n",
    "request_data = api.GetSearchResults(key, address, postal_code)"
   ]
  },
  {
   "cell_type": "code",
   "execution_count": null,
   "metadata": {},
   "outputs": [],
   "source": []
  },
  {
   "cell_type": "code",
   "execution_count": 7,
   "metadata": {},
   "outputs": [
    {
     "data": {
      "text/plain": [
       "{'zpid': '11626766',\n",
       " 'similarity_score': None,\n",
       " 'links': {'home_details': 'https://www.zillow.com/homedetails/501-Shumaker-Dr-Monroeville-PA-15146/11626766_zpid/',\n",
       "  'graphs_and_data': 'http://www.zillow.com/homedetails/501-Shumaker-Dr-Monroeville-PA-15146/11626766_zpid/#charts-and-data',\n",
       "  'map_this_home': 'http://www.zillow.com/homes/11626766_zpid/',\n",
       "  'comparables': 'http://www.zillow.com/homes/comps/11626766_zpid/'},\n",
       " 'full_address': {'street': '501 Shumaker Dr',\n",
       "  'zipcode': '15146',\n",
       "  'city': 'Monroeville',\n",
       "  'state': 'PA',\n",
       "  'latitude': '40.456694',\n",
       "  'longitude': '-79.763917'},\n",
       " 'zestimate': {'amount': 199524,\n",
       "  'amount_currency': 'USD',\n",
       "  'amount_last_updated': '04/08/2020',\n",
       "  'amount_change_30days': 7174,\n",
       "  'valuation_range_low': 183562,\n",
       "  'valuation_range_high': 223467},\n",
       " 'local_realestate': {'region_name': 'Monroeville',\n",
       "  'region_id': '46582',\n",
       "  'region_type': 'city',\n",
       "  'overview_link': 'http://www.zillow.com/local-info/PA-Monroeville/r_46582/',\n",
       "  'fsbo_link': 'http://www.zillow.com/monroeville-pa/fsbo/',\n",
       "  'sale_link': 'http://www.zillow.com/monroeville-pa/',\n",
       "  'zillow_home_value_index': None},\n",
       " 'extended_data': {'fips_county': None,\n",
       "  'usecode': None,\n",
       "  'tax_assessment_year': None,\n",
       "  'tax_assessment': None,\n",
       "  'year_built': None,\n",
       "  'lot_size_sqft': None,\n",
       "  'finished_sqft': None,\n",
       "  'bathrooms': None,\n",
       "  'bedrooms': None,\n",
       "  'last_sold_date': None,\n",
       "  'last_sold_price': None,\n",
       "  'complete': False}}"
      ]
     },
     "execution_count": 7,
     "metadata": {},
     "output_type": "execute_result"
    }
   ],
   "source": [
    "result = request_data.get_dict()\n",
    "result"
   ]
  },
  {
   "cell_type": "code",
   "execution_count": 8,
   "metadata": {},
   "outputs": [],
   "source": [
    "def Merge(dict1, dict2): \n",
    "    return(dict2.update(dict1)) "
   ]
  },
  {
   "cell_type": "code",
   "execution_count": 9,
   "metadata": {},
   "outputs": [
    {
     "data": {
      "text/plain": [
       "{'amount': 199524,\n",
       " 'amount_currency': 'USD',\n",
       " 'amount_last_updated': '04/08/2020',\n",
       " 'amount_change_30days': 7174,\n",
       " 'valuation_range_low': 183562,\n",
       " 'valuation_range_high': 223467}"
      ]
     },
     "execution_count": 9,
     "metadata": {},
     "output_type": "execute_result"
    }
   ],
   "source": [
    "zestimate = result['zestimate']\n",
    "zestimate"
   ]
  },
  {
   "cell_type": "code",
   "execution_count": 10,
   "metadata": {},
   "outputs": [
    {
     "data": {
      "text/plain": [
       "{'street': '501 Shumaker Dr',\n",
       " 'zipcode': '15146',\n",
       " 'city': 'Monroeville',\n",
       " 'state': 'PA',\n",
       " 'latitude': '40.456694',\n",
       " 'longitude': '-79.763917'}"
      ]
     },
     "execution_count": 10,
     "metadata": {},
     "output_type": "execute_result"
    }
   ],
   "source": [
    "address = result['full_address']\n",
    "address"
   ]
  },
  {
   "cell_type": "code",
   "execution_count": 11,
   "metadata": {},
   "outputs": [],
   "source": [
    "local = result['local_realestate']"
   ]
  },
  {
   "cell_type": "code",
   "execution_count": 12,
   "metadata": {},
   "outputs": [],
   "source": [
    "merge_data = Merge(zestimate, local)\n",
    "merge_data"
   ]
  },
  {
   "cell_type": "code",
   "execution_count": 13,
   "metadata": {},
   "outputs": [
    {
     "data": {
      "text/html": [
       "<div>\n",
       "<style scoped>\n",
       "    .dataframe tbody tr th:only-of-type {\n",
       "        vertical-align: middle;\n",
       "    }\n",
       "\n",
       "    .dataframe tbody tr th {\n",
       "        vertical-align: top;\n",
       "    }\n",
       "\n",
       "    .dataframe thead th {\n",
       "        text-align: right;\n",
       "    }\n",
       "</style>\n",
       "<table border=\"1\" class=\"dataframe\">\n",
       "  <thead>\n",
       "    <tr style=\"text-align: right;\">\n",
       "      <th></th>\n",
       "      <th>amount</th>\n",
       "      <th>amount_currency</th>\n",
       "      <th>amount_last_updated</th>\n",
       "      <th>amount_change_30days</th>\n",
       "      <th>valuation_range_low</th>\n",
       "      <th>valuation_range_high</th>\n",
       "    </tr>\n",
       "  </thead>\n",
       "  <tbody>\n",
       "    <tr>\n",
       "      <th>0</th>\n",
       "      <td>199524</td>\n",
       "      <td>USD</td>\n",
       "      <td>04/08/2020</td>\n",
       "      <td>7174</td>\n",
       "      <td>183562</td>\n",
       "      <td>223467</td>\n",
       "    </tr>\n",
       "  </tbody>\n",
       "</table>\n",
       "</div>"
      ],
      "text/plain": [
       "   amount amount_currency amount_last_updated amount_change_30days  \\\n",
       "0  199524             USD          04/08/2020                 7174   \n",
       "\n",
       "  valuation_range_low valuation_range_high  \n",
       "0              183562               223467  "
      ]
     },
     "execution_count": 13,
     "metadata": {},
     "output_type": "execute_result"
    }
   ],
   "source": [
    "test_log = pd.DataFrame.from_dict(zestimate, orient='index').T\n",
    "test_log"
   ]
  },
  {
   "cell_type": "code",
   "execution_count": 18,
   "metadata": {},
   "outputs": [],
   "source": [
    "  #######DB Setup and Loading#########\n",
    "#connection_string = \"postgres:Password@localhost:5432/zillow\"\n",
    "connection_string = \"postgres:apartment@homeslice.cjnrjw08kldx.us-east-2.rds.amazonaws.com:5432/HomeSliceDB\"\n",
    "engine = create_engine(f'postgresql://{connection_string}')"
   ]
  },
  {
   "cell_type": "code",
   "execution_count": 24,
   "metadata": {},
   "outputs": [
    {
     "data": {
      "text/plain": [
       "'\"PA\"'"
      ]
     },
     "execution_count": 24,
     "metadata": {},
     "output_type": "execute_result"
    }
   ],
   "source": [
    "address = \"PA\"\n",
    "add_1 = '\"{}\"'.format(address)\n",
    "\n",
    "add_1\n"
   ]
  },
  {
   "cell_type": "code",
   "execution_count": 31,
   "metadata": {},
   "outputs": [],
   "source": [
    "#Function to call data from Zillow and return dataframe\n",
    "\n",
    "\n",
    "def address_search(address, postal_code):\n",
    "    request_data = api.GetSearchResults(key, address, postal_code)\n",
    "    result = request_data.get_dict()\n",
    "    address = result['full_address']\n",
    "    \n",
    "    zestimate = result['zestimate']\n",
    "    comb_dict = dict(zestimate)\n",
    "    comb_dict.update(address)\n",
    "    combined_df = pd.DataFrame.from_dict(comb_dict, orient='index').T\n",
    "\n",
    "    combined_df['risk_adj_value'] = (combined_df['amount']*.85) #Risk adjusting home by 15%, reducing home val by 15%\n",
    "    combined_df['max_cash_limit'] = combined_df['risk_adj_value']*.30 #Cannot buy more than 30% of someones home equity, bc then youre pushing majority ownership\n",
    "    combined_df.to_sql(name='zillow', con=engine, if_exists='append', index=False)\n",
    "    final=combined_df[\"amount\"]\n",
    "    test = combined_df[\"max_cash_limit\"]\n",
    "    \n",
    "    return(final,test)\n"
   ]
  },
  {
   "cell_type": "code",
   "execution_count": 32,
   "metadata": {},
   "outputs": [
    {
     "data": {
      "text/plain": [
       "(0    199524\n",
       " Name: amount, dtype: object,\n",
       " 0    50878.6\n",
       " Name: max_cash_limit, dtype: object)"
      ]
     },
     "execution_count": 32,
     "metadata": {},
     "output_type": "execute_result"
    }
   ],
   "source": [
    "address_search(\"501 Shumaker Dr, Monroeville, PA\",\"15146\")\n"
   ]
  },
  {
   "cell_type": "code",
   "execution_count": 14,
   "metadata": {},
   "outputs": [
    {
     "data": {
      "text/html": [
       "<div>\n",
       "<style scoped>\n",
       "    .dataframe tbody tr th:only-of-type {\n",
       "        vertical-align: middle;\n",
       "    }\n",
       "\n",
       "    .dataframe tbody tr th {\n",
       "        vertical-align: top;\n",
       "    }\n",
       "\n",
       "    .dataframe thead th {\n",
       "        text-align: right;\n",
       "    }\n",
       "</style>\n",
       "<table border=\"1\" class=\"dataframe\">\n",
       "  <thead>\n",
       "    <tr style=\"text-align: right;\">\n",
       "      <th></th>\n",
       "      <th>amount</th>\n",
       "      <th>amount_currency</th>\n",
       "      <th>amount_last_updated</th>\n",
       "      <th>amount_change_30days</th>\n",
       "      <th>valuation_range_low</th>\n",
       "      <th>valuation_range_high</th>\n",
       "      <th>street</th>\n",
       "      <th>zipcode</th>\n",
       "      <th>city</th>\n",
       "      <th>state</th>\n",
       "      <th>latitude</th>\n",
       "      <th>longitude</th>\n",
       "      <th>risk_adj_value</th>\n",
       "      <th>max_cash_limit</th>\n",
       "    </tr>\n",
       "  </thead>\n",
       "  <tbody>\n",
       "    <tr>\n",
       "      <th>0</th>\n",
       "      <td>493357</td>\n",
       "      <td>USD</td>\n",
       "      <td>04/07/2020</td>\n",
       "      <td>-1195</td>\n",
       "      <td>453888</td>\n",
       "      <td>552560</td>\n",
       "      <td>317 E 8th Ave</td>\n",
       "      <td>08260</td>\n",
       "      <td>Wildwood</td>\n",
       "      <td>NJ</td>\n",
       "      <td>39.00134</td>\n",
       "      <td>-74.794258</td>\n",
       "      <td>419353</td>\n",
       "      <td>125806</td>\n",
       "    </tr>\n",
       "  </tbody>\n",
       "</table>\n",
       "</div>"
      ],
      "text/plain": [
       "   amount amount_currency amount_last_updated amount_change_30days  \\\n",
       "0  493357             USD          04/07/2020                -1195   \n",
       "\n",
       "  valuation_range_low valuation_range_high         street zipcode      city  \\\n",
       "0              453888               552560  317 E 8th Ave   08260  Wildwood   \n",
       "\n",
       "  state  latitude   longitude risk_adj_value max_cash_limit  \n",
       "0    NJ  39.00134  -74.794258         419353         125806  "
      ]
     },
     "execution_count": 14,
     "metadata": {},
     "output_type": "execute_result"
    }
   ],
   "source": [
    "#Risk adjustment calculation\n",
    "\n",
    "master_df['risk_adj_value'] = (master_df['amount']*.85) #Risk adjusting home by 15%, reducing home val by 15%\n",
    "master_df['max_cash_limit'] = master_df['risk_adj_value']*.30 #Cannot buy more than 30% of someones home equity, bc then youre pushing majority ownership\n",
    "master_df\n",
    "\n",
    "#######DB Setup and Loading#########\n",
    "connection_string = \"postgres:Password@localhost:5432/zillow\"\n",
    "#connection_string = \"postgres:M@cboy089@localhost:5432/zillow\"\n",
    "engine = create_engine(f'postgresql://{connection_string}')\n",
    "master_df.to_sql(name='zillow', con=engine, if_exists='replace', index=False)"
   ]
  },
  {
   "cell_type": "code",
   "execution_count": 20,
   "metadata": {},
   "outputs": [],
   "source": [
    "connection_string = \"postgres:Password@localhost:5432/zillow\"\n",
    "\n",
    "#connection_string = \"postgres:M@cboy089@localhost:5432/zillow\"\n",
    "engine = create_engine(f'postgresql://{connection_string}')\n",
    "master_df.to_sql(name='zillow', con=engine, if_exists='replace', index=False)\n"
   ]
  },
  {
   "cell_type": "code",
   "execution_count": null,
   "metadata": {},
   "outputs": [],
   "source": []
  }
 ],
 "metadata": {
  "kernelspec": {
   "display_name": "Python 3",
   "language": "python",
   "name": "python3"
  },
  "language_info": {
   "codemirror_mode": {
    "name": "ipython",
    "version": 3
   },
   "file_extension": ".py",
   "mimetype": "text/x-python",
   "name": "python",
   "nbconvert_exporter": "python",
   "pygments_lexer": "ipython3",
   "version": "3.6.9"
  }
 },
 "nbformat": 4,
 "nbformat_minor": 2
}
