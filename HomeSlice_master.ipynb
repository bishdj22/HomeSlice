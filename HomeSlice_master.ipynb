{
 "cells": [
  {
   "cell_type": "code",
   "execution_count": 1,
   "metadata": {},
   "outputs": [],
   "source": [
    "#from config import (census_key, gkey)\n",
    "import numpy as np\n",
    "import pandas as pd\n",
    "import requests\n",
    "import zillow\n",
    "import pprint as pp\n",
    "import json"
   ]
  },
  {
   "cell_type": "code",
   "execution_count": 2,
   "metadata": {},
   "outputs": [],
   "source": [
    "#----API Reference GitHub --> https://github.com/seme0021/python-zillow\n",
    "\n",
    "api = zillow.ValuationApi()\n",
    "key = \"X1-ZWz17fdl35adqj_3bebs\""
   ]
  },
  {
   "cell_type": "code",
   "execution_count": null,
   "metadata": {},
   "outputs": [],
   "source": []
  },
  {
   "cell_type": "code",
   "execution_count": 3,
   "metadata": {},
   "outputs": [],
   "source": [
    "#TEST ADDRESS: 14 Hayes Ave, Elizabeth, NJ 07202\n",
    "\n",
    "address = \"501 Shumaker Dr, Monroeville, PA\"\n",
    "postal_code = \"15146\"\n",
    "\n",
    "\n",
    "request_data = api.GetSearchResults(key, address, postal_code)"
   ]
  },
  {
   "cell_type": "code",
   "execution_count": null,
   "metadata": {},
   "outputs": [],
   "source": []
  },
  {
   "cell_type": "code",
   "execution_count": 4,
   "metadata": {},
   "outputs": [
    {
     "data": {
      "text/plain": [
       "{'zpid': '11626766',\n",
       " 'similarity_score': None,\n",
       " 'links': {'home_details': 'https://www.zillow.com/homedetails/501-Shumaker-Dr-Monroeville-PA-15146/11626766_zpid/',\n",
       "  'graphs_and_data': 'http://www.zillow.com/homedetails/501-Shumaker-Dr-Monroeville-PA-15146/11626766_zpid/#charts-and-data',\n",
       "  'map_this_home': 'http://www.zillow.com/homes/11626766_zpid/',\n",
       "  'comparables': 'http://www.zillow.com/homes/comps/11626766_zpid/'},\n",
       " 'full_address': {'street': '501 Shumaker Dr',\n",
       "  'zipcode': '15146',\n",
       "  'city': 'Monroeville',\n",
       "  'state': 'PA',\n",
       "  'latitude': '40.456694',\n",
       "  'longitude': '-79.763917'},\n",
       " 'zestimate': {'amount': 195091,\n",
       "  'amount_currency': 'USD',\n",
       "  'amount_last_updated': '04/05/2020',\n",
       "  'amount_change_30days': 3081,\n",
       "  'valuation_range_low': 181435,\n",
       "  'valuation_range_high': 216551},\n",
       " 'local_realestate': {'region_name': 'Monroeville',\n",
       "  'region_id': '46582',\n",
       "  'region_type': 'city',\n",
       "  'overview_link': 'http://www.zillow.com/local-info/PA-Monroeville/r_46582/',\n",
       "  'fsbo_link': 'http://www.zillow.com/monroeville-pa/fsbo/',\n",
       "  'sale_link': 'http://www.zillow.com/monroeville-pa/',\n",
       "  'zillow_home_value_index': None},\n",
       " 'extended_data': {'fips_county': None,\n",
       "  'usecode': None,\n",
       "  'tax_assessment_year': None,\n",
       "  'tax_assessment': None,\n",
       "  'year_built': None,\n",
       "  'lot_size_sqft': None,\n",
       "  'finished_sqft': None,\n",
       "  'bathrooms': None,\n",
       "  'bedrooms': None,\n",
       "  'last_sold_date': None,\n",
       "  'last_sold_price': None,\n",
       "  'complete': False}}"
      ]
     },
     "execution_count": 4,
     "metadata": {},
     "output_type": "execute_result"
    }
   ],
   "source": [
    "result = request_data.get_dict()\n",
    "result"
   ]
  },
  {
   "cell_type": "code",
   "execution_count": 5,
   "metadata": {},
   "outputs": [],
   "source": [
    "def Merge(dict1, dict2): \n",
    "    return(dict2.update(dict1)) "
   ]
  },
  {
   "cell_type": "code",
   "execution_count": 6,
   "metadata": {},
   "outputs": [
    {
     "data": {
      "text/plain": [
       "{'amount': 195091,\n",
       " 'amount_currency': 'USD',\n",
       " 'amount_last_updated': '04/05/2020',\n",
       " 'amount_change_30days': 3081,\n",
       " 'valuation_range_low': 181435,\n",
       " 'valuation_range_high': 216551}"
      ]
     },
     "execution_count": 6,
     "metadata": {},
     "output_type": "execute_result"
    }
   ],
   "source": [
    "zestimate = result['zestimate']\n",
    "zestimate"
   ]
  },
  {
   "cell_type": "code",
   "execution_count": 7,
   "metadata": {},
   "outputs": [
    {
     "data": {
      "text/plain": [
       "{'street': '501 Shumaker Dr',\n",
       " 'zipcode': '15146',\n",
       " 'city': 'Monroeville',\n",
       " 'state': 'PA',\n",
       " 'latitude': '40.456694',\n",
       " 'longitude': '-79.763917'}"
      ]
     },
     "execution_count": 7,
     "metadata": {},
     "output_type": "execute_result"
    }
   ],
   "source": [
    "address = result['full_address']\n",
    "address"
   ]
  },
  {
   "cell_type": "code",
   "execution_count": 8,
   "metadata": {},
   "outputs": [],
   "source": [
    "local = result['local_realestate']"
   ]
  },
  {
   "cell_type": "code",
   "execution_count": 9,
   "metadata": {},
   "outputs": [],
   "source": [
    "merge_data = Merge(zestimate, local)\n",
    "merge_data"
   ]
  },
  {
   "cell_type": "code",
   "execution_count": 10,
   "metadata": {},
   "outputs": [
    {
     "data": {
      "text/html": [
       "<div>\n",
       "<style scoped>\n",
       "    .dataframe tbody tr th:only-of-type {\n",
       "        vertical-align: middle;\n",
       "    }\n",
       "\n",
       "    .dataframe tbody tr th {\n",
       "        vertical-align: top;\n",
       "    }\n",
       "\n",
       "    .dataframe thead th {\n",
       "        text-align: right;\n",
       "    }\n",
       "</style>\n",
       "<table border=\"1\" class=\"dataframe\">\n",
       "  <thead>\n",
       "    <tr style=\"text-align: right;\">\n",
       "      <th></th>\n",
       "      <th>amount</th>\n",
       "      <th>amount_currency</th>\n",
       "      <th>amount_last_updated</th>\n",
       "      <th>amount_change_30days</th>\n",
       "      <th>valuation_range_low</th>\n",
       "      <th>valuation_range_high</th>\n",
       "    </tr>\n",
       "  </thead>\n",
       "  <tbody>\n",
       "    <tr>\n",
       "      <th>0</th>\n",
       "      <td>195091</td>\n",
       "      <td>USD</td>\n",
       "      <td>04/05/2020</td>\n",
       "      <td>3081</td>\n",
       "      <td>181435</td>\n",
       "      <td>216551</td>\n",
       "    </tr>\n",
       "  </tbody>\n",
       "</table>\n",
       "</div>"
      ],
      "text/plain": [
       "   amount amount_currency amount_last_updated amount_change_30days  \\\n",
       "0  195091             USD          04/05/2020                 3081   \n",
       "\n",
       "  valuation_range_low valuation_range_high  \n",
       "0              181435               216551  "
      ]
     },
     "execution_count": 10,
     "metadata": {},
     "output_type": "execute_result"
    }
   ],
   "source": [
    "test_log = pd.DataFrame.from_dict(zestimate, orient='index').T\n",
    "test_log"
   ]
  },
  {
   "cell_type": "code",
   "execution_count": null,
   "metadata": {},
   "outputs": [],
   "source": []
  },
  {
   "cell_type": "code",
   "execution_count": 11,
   "metadata": {},
   "outputs": [],
   "source": [
    "#Function to call data from Zillow and return dataframe\n",
    "\n",
    "def address_search(address, postal_code):\n",
    "    request_data = api.GetSearchResults(key, address, postal_code)\n",
    "    result = request_data.get_dict()\n",
    "    address = result['full_address']\n",
    "    \n",
    "    zestimate = result['zestimate']\n",
    "    comb_dict = dict(zestimate)\n",
    "    comb_dict.update(address)\n",
    "    zestimate_df = pd.DataFrame.from_dict(comb_dict, orient='index').T\n",
    "\n",
    "    return(zestimate_df)\n"
   ]
  },
  {
   "cell_type": "code",
   "execution_count": 12,
   "metadata": {},
   "outputs": [
    {
     "data": {
      "text/html": [
       "<div>\n",
       "<style scoped>\n",
       "    .dataframe tbody tr th:only-of-type {\n",
       "        vertical-align: middle;\n",
       "    }\n",
       "\n",
       "    .dataframe tbody tr th {\n",
       "        vertical-align: top;\n",
       "    }\n",
       "\n",
       "    .dataframe thead th {\n",
       "        text-align: right;\n",
       "    }\n",
       "</style>\n",
       "<table border=\"1\" class=\"dataframe\">\n",
       "  <thead>\n",
       "    <tr style=\"text-align: right;\">\n",
       "      <th></th>\n",
       "      <th>amount</th>\n",
       "      <th>amount_currency</th>\n",
       "      <th>amount_last_updated</th>\n",
       "      <th>amount_change_30days</th>\n",
       "      <th>valuation_range_low</th>\n",
       "      <th>valuation_range_high</th>\n",
       "      <th>street</th>\n",
       "      <th>zipcode</th>\n",
       "      <th>city</th>\n",
       "      <th>state</th>\n",
       "      <th>latitude</th>\n",
       "      <th>longitude</th>\n",
       "    </tr>\n",
       "  </thead>\n",
       "  <tbody>\n",
       "    <tr>\n",
       "      <th>0</th>\n",
       "      <td>492723</td>\n",
       "      <td>USD</td>\n",
       "      <td>04/05/2020</td>\n",
       "      <td>-1942</td>\n",
       "      <td>448378</td>\n",
       "      <td>556777</td>\n",
       "      <td>317 E 8th Ave</td>\n",
       "      <td>08260</td>\n",
       "      <td>Wildwood</td>\n",
       "      <td>NJ</td>\n",
       "      <td>39.00134</td>\n",
       "      <td>-74.794258</td>\n",
       "    </tr>\n",
       "  </tbody>\n",
       "</table>\n",
       "</div>"
      ],
      "text/plain": [
       "   amount amount_currency amount_last_updated amount_change_30days  \\\n",
       "0  492723             USD          04/05/2020                -1942   \n",
       "\n",
       "  valuation_range_low valuation_range_high         street zipcode      city  \\\n",
       "0              448378               556777  317 E 8th Ave   08260  Wildwood   \n",
       "\n",
       "  state  latitude   longitude  \n",
       "0    NJ  39.00134  -74.794258  "
      ]
     },
     "execution_count": 12,
     "metadata": {},
     "output_type": "execute_result"
    }
   ],
   "source": [
    "master_df = address_search(\"317 E 8th Ave, North Wildwood, NJ\",\"08260\")\n",
    "master_df"
   ]
  },
  {
   "cell_type": "code",
   "execution_count": 19,
   "metadata": {},
   "outputs": [
    {
     "data": {
      "text/html": [
       "<div>\n",
       "<style scoped>\n",
       "    .dataframe tbody tr th:only-of-type {\n",
       "        vertical-align: middle;\n",
       "    }\n",
       "\n",
       "    .dataframe tbody tr th {\n",
       "        vertical-align: top;\n",
       "    }\n",
       "\n",
       "    .dataframe thead th {\n",
       "        text-align: right;\n",
       "    }\n",
       "</style>\n",
       "<table border=\"1\" class=\"dataframe\">\n",
       "  <thead>\n",
       "    <tr style=\"text-align: right;\">\n",
       "      <th></th>\n",
       "      <th>amount</th>\n",
       "      <th>amount_currency</th>\n",
       "      <th>amount_last_updated</th>\n",
       "      <th>amount_change_30days</th>\n",
       "      <th>valuation_range_low</th>\n",
       "      <th>valuation_range_high</th>\n",
       "      <th>street</th>\n",
       "      <th>zipcode</th>\n",
       "      <th>city</th>\n",
       "      <th>state</th>\n",
       "      <th>latitude</th>\n",
       "      <th>longitude</th>\n",
       "      <th>risk_adj_val</th>\n",
       "      <th>risk_adj_value</th>\n",
       "      <th>max_cash_limit</th>\n",
       "    </tr>\n",
       "  </thead>\n",
       "  <tbody>\n",
       "    <tr>\n",
       "      <th>0</th>\n",
       "      <td>492723</td>\n",
       "      <td>USD</td>\n",
       "      <td>04/05/2020</td>\n",
       "      <td>-1942</td>\n",
       "      <td>448378</td>\n",
       "      <td>556777</td>\n",
       "      <td>317 E 8th Ave</td>\n",
       "      <td>08260</td>\n",
       "      <td>Wildwood</td>\n",
       "      <td>NJ</td>\n",
       "      <td>39.00134</td>\n",
       "      <td>-74.794258</td>\n",
       "      <td>125644</td>\n",
       "      <td>418815</td>\n",
       "      <td>125644</td>\n",
       "    </tr>\n",
       "  </tbody>\n",
       "</table>\n",
       "</div>"
      ],
      "text/plain": [
       "   amount amount_currency amount_last_updated amount_change_30days  \\\n",
       "0  492723             USD          04/05/2020                -1942   \n",
       "\n",
       "  valuation_range_low valuation_range_high         street zipcode      city  \\\n",
       "0              448378               556777  317 E 8th Ave   08260  Wildwood   \n",
       "\n",
       "  state  latitude   longitude risk_adj_val risk_adj_value max_cash_limit  \n",
       "0    NJ  39.00134  -74.794258       125644         418815         125644  "
      ]
     },
     "execution_count": 19,
     "metadata": {},
     "output_type": "execute_result"
    }
   ],
   "source": [
    "#Risk adjustment calculation\n",
    "\n",
    "master_df['risk_adj_value'] = (master_df['amount']*.85) #Risk adjusting home by 15%, reducing home val by 15%\n",
    "master_df['max_cash_limit'] = master_df['risk_adj_value']*.30 #Cannot buy more than 30% of someones home equity, bc then youre pushing majority ownership\n",
    "master_df"
   ]
  },
  {
   "cell_type": "code",
   "execution_count": null,
   "metadata": {},
   "outputs": [],
   "source": []
  }
 ],
 "metadata": {
  "kernelspec": {
   "display_name": "Python 3",
   "language": "python",
   "name": "python3"
  },
  "language_info": {
   "codemirror_mode": {
    "name": "ipython",
    "version": 3
   },
   "file_extension": ".py",
   "mimetype": "text/x-python",
   "name": "python",
   "nbconvert_exporter": "python",
   "pygments_lexer": "ipython3",
   "version": "3.6.9"
  }
 },
 "nbformat": 4,
 "nbformat_minor": 2
}
